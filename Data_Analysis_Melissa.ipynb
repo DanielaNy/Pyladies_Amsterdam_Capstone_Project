{
 "cells": [
  {
   "cell_type": "markdown",
   "metadata": {},
   "source": [
    "# Capstone Project - Team 11\n",
    "\n",
    "## Capstone assignment\n",
    "\n",
    "[Link to capstnone project assignment - Pyladies Ams](https://github.com/pyladiesams/Bootcamp-Data-Analysis-beginner-apr-may2020/tree/master/Capstone)\n",
    "\n",
    "##### Libraries\n",
    "\n",
    "- Pandas\n",
    "- Matplotlib\n",
    "- Seaborn (optional)\n",
    "- NumPy (optional)\n",
    "\n",
    "##### Capstone Task\n",
    "\n",
    "\n",
    "1. Find a dataset that has at least 2 CSV files (to merge/join/concat them later)\n",
    "2. Come up with 5 questions that you want to answer while exploring the dataset\n",
    "3. Create one GitHub repository for your team Capstone project\n",
    "4. Perform EDA (Exploratoty Data Analysis) on your dataset with basic visualisations\n",
    "5. Make a 5 min presentation about your team findings and be ready to present it online. Add presentation slides to your GitHub repo.\n",
    "6. Celebrate and wait for your certificate (send your name and surname for the certificate in a direct message on Slack to Alyona Galyeva)\n"
   ]
  },
  {
   "cell_type": "markdown",
   "metadata": {},
   "source": [
    "## Data preprocessing\n",
    "\n",
    "Go directly to a [summary](#Summary) of preprocessing to copy the commands used."
   ]
  },
  {
   "cell_type": "code",
   "execution_count": null,
   "metadata": {},
   "outputs": [],
   "source": []
  },
  {
   "cell_type": "code",
   "execution_count": 1,
   "metadata": {},
   "outputs": [
    {
     "data": {
      "text/html": [
       "<div>\n",
       "<style scoped>\n",
       "    .dataframe tbody tr th:only-of-type {\n",
       "        vertical-align: middle;\n",
       "    }\n",
       "\n",
       "    .dataframe tbody tr th {\n",
       "        vertical-align: top;\n",
       "    }\n",
       "\n",
       "    .dataframe thead th {\n",
       "        text-align: right;\n",
       "    }\n",
       "</style>\n",
       "<table border=\"1\" class=\"dataframe\">\n",
       "  <thead>\n",
       "    <tr style=\"text-align: right;\">\n",
       "      <th></th>\n",
       "      <th>id</th>\n",
       "      <th>track_name_x</th>\n",
       "      <th>size_bytes_x</th>\n",
       "      <th>currency</th>\n",
       "      <th>price</th>\n",
       "      <th>rating_count_tot</th>\n",
       "      <th>rating_count_ver</th>\n",
       "      <th>user_rating</th>\n",
       "      <th>user_rating_ver</th>\n",
       "      <th>ver</th>\n",
       "      <th>cont_rating</th>\n",
       "      <th>prime_genre</th>\n",
       "      <th>sup_devices.num</th>\n",
       "      <th>ipadSc_urls.num</th>\n",
       "      <th>lang.num</th>\n",
       "      <th>vpp_lic</th>\n",
       "      <th>app_desc</th>\n",
       "    </tr>\n",
       "  </thead>\n",
       "  <tbody>\n",
       "    <tr>\n",
       "      <th>0</th>\n",
       "      <td>281656475</td>\n",
       "      <td>PAC-MAN Premium</td>\n",
       "      <td>100788224</td>\n",
       "      <td>USD</td>\n",
       "      <td>3.99</td>\n",
       "      <td>21292</td>\n",
       "      <td>26</td>\n",
       "      <td>4.0</td>\n",
       "      <td>4.5</td>\n",
       "      <td>6.3.5</td>\n",
       "      <td>4+</td>\n",
       "      <td>Games</td>\n",
       "      <td>38</td>\n",
       "      <td>5</td>\n",
       "      <td>10</td>\n",
       "      <td>1</td>\n",
       "      <td>SAVE 20%, now only $3.99 for a limited time!\\r...</td>\n",
       "    </tr>\n",
       "    <tr>\n",
       "      <th>1</th>\n",
       "      <td>281796108</td>\n",
       "      <td>Evernote - stay organized</td>\n",
       "      <td>158578688</td>\n",
       "      <td>USD</td>\n",
       "      <td>0.00</td>\n",
       "      <td>161065</td>\n",
       "      <td>26</td>\n",
       "      <td>4.0</td>\n",
       "      <td>3.5</td>\n",
       "      <td>8.2.2</td>\n",
       "      <td>4+</td>\n",
       "      <td>Productivity</td>\n",
       "      <td>37</td>\n",
       "      <td>5</td>\n",
       "      <td>23</td>\n",
       "      <td>1</td>\n",
       "      <td>Let Evernote change the way you organize your ...</td>\n",
       "    </tr>\n",
       "    <tr>\n",
       "      <th>2</th>\n",
       "      <td>281940292</td>\n",
       "      <td>WeatherBug - Local Weather, Radar, Maps, Alerts</td>\n",
       "      <td>100524032</td>\n",
       "      <td>USD</td>\n",
       "      <td>0.00</td>\n",
       "      <td>188583</td>\n",
       "      <td>2822</td>\n",
       "      <td>3.5</td>\n",
       "      <td>4.5</td>\n",
       "      <td>5.0.0</td>\n",
       "      <td>4+</td>\n",
       "      <td>Weather</td>\n",
       "      <td>37</td>\n",
       "      <td>5</td>\n",
       "      <td>3</td>\n",
       "      <td>1</td>\n",
       "      <td>Download the most popular free weather app pow...</td>\n",
       "    </tr>\n",
       "    <tr>\n",
       "      <th>3</th>\n",
       "      <td>282614216</td>\n",
       "      <td>eBay: Best App to Buy, Sell, Save! Online Shop...</td>\n",
       "      <td>128512000</td>\n",
       "      <td>USD</td>\n",
       "      <td>0.00</td>\n",
       "      <td>262241</td>\n",
       "      <td>649</td>\n",
       "      <td>4.0</td>\n",
       "      <td>4.5</td>\n",
       "      <td>5.10.0</td>\n",
       "      <td>12+</td>\n",
       "      <td>Shopping</td>\n",
       "      <td>37</td>\n",
       "      <td>5</td>\n",
       "      <td>9</td>\n",
       "      <td>1</td>\n",
       "      <td>The eBay app is the best way to find anything ...</td>\n",
       "    </tr>\n",
       "    <tr>\n",
       "      <th>4</th>\n",
       "      <td>282935706</td>\n",
       "      <td>Bible</td>\n",
       "      <td>92774400</td>\n",
       "      <td>USD</td>\n",
       "      <td>0.00</td>\n",
       "      <td>985920</td>\n",
       "      <td>5320</td>\n",
       "      <td>4.5</td>\n",
       "      <td>5.0</td>\n",
       "      <td>7.5.1</td>\n",
       "      <td>4+</td>\n",
       "      <td>Reference</td>\n",
       "      <td>37</td>\n",
       "      <td>5</td>\n",
       "      <td>45</td>\n",
       "      <td>1</td>\n",
       "      <td>On more than 250 million devices around the wo...</td>\n",
       "    </tr>\n",
       "    <tr>\n",
       "      <th>5</th>\n",
       "      <td>283619399</td>\n",
       "      <td>Shanghai Mahjong</td>\n",
       "      <td>10485713</td>\n",
       "      <td>USD</td>\n",
       "      <td>0.99</td>\n",
       "      <td>8253</td>\n",
       "      <td>5516</td>\n",
       "      <td>4.0</td>\n",
       "      <td>4.0</td>\n",
       "      <td>1.8</td>\n",
       "      <td>4+</td>\n",
       "      <td>Games</td>\n",
       "      <td>47</td>\n",
       "      <td>5</td>\n",
       "      <td>1</td>\n",
       "      <td>1</td>\n",
       "      <td>★ WINNER \"BEST GAME\" 2009\\r\\n★ 3rd PLACE WINNE...</td>\n",
       "    </tr>\n",
       "    <tr>\n",
       "      <th>6</th>\n",
       "      <td>283646709</td>\n",
       "      <td>PayPal - Send and request money safely</td>\n",
       "      <td>227795968</td>\n",
       "      <td>USD</td>\n",
       "      <td>0.00</td>\n",
       "      <td>119487</td>\n",
       "      <td>879</td>\n",
       "      <td>4.0</td>\n",
       "      <td>4.5</td>\n",
       "      <td>6.12.0</td>\n",
       "      <td>4+</td>\n",
       "      <td>Finance</td>\n",
       "      <td>37</td>\n",
       "      <td>0</td>\n",
       "      <td>19</td>\n",
       "      <td>1</td>\n",
       "      <td>Description\\r\\nTAP INTO YOUR MONEY\\r\\nSend mon...</td>\n",
       "    </tr>\n",
       "    <tr>\n",
       "      <th>7</th>\n",
       "      <td>284035177</td>\n",
       "      <td>Pandora - Music &amp; Radio</td>\n",
       "      <td>130242560</td>\n",
       "      <td>USD</td>\n",
       "      <td>0.00</td>\n",
       "      <td>1126879</td>\n",
       "      <td>3594</td>\n",
       "      <td>4.0</td>\n",
       "      <td>4.5</td>\n",
       "      <td>8.4.1</td>\n",
       "      <td>12+</td>\n",
       "      <td>Music</td>\n",
       "      <td>37</td>\n",
       "      <td>4</td>\n",
       "      <td>1</td>\n",
       "      <td>1</td>\n",
       "      <td>Find the music you love and let the music you ...</td>\n",
       "    </tr>\n",
       "    <tr>\n",
       "      <th>8</th>\n",
       "      <td>284666222</td>\n",
       "      <td>PCalc - The Best Calculator</td>\n",
       "      <td>49250304</td>\n",
       "      <td>USD</td>\n",
       "      <td>9.99</td>\n",
       "      <td>1117</td>\n",
       "      <td>4</td>\n",
       "      <td>4.5</td>\n",
       "      <td>5.0</td>\n",
       "      <td>3.6.6</td>\n",
       "      <td>4+</td>\n",
       "      <td>Utilities</td>\n",
       "      <td>37</td>\n",
       "      <td>5</td>\n",
       "      <td>1</td>\n",
       "      <td>1</td>\n",
       "      <td>PCalc is the powerful choice for scientists, e...</td>\n",
       "    </tr>\n",
       "    <tr>\n",
       "      <th>9</th>\n",
       "      <td>284736660</td>\n",
       "      <td>Ms. PAC-MAN</td>\n",
       "      <td>70023168</td>\n",
       "      <td>USD</td>\n",
       "      <td>3.99</td>\n",
       "      <td>7885</td>\n",
       "      <td>40</td>\n",
       "      <td>4.0</td>\n",
       "      <td>4.0</td>\n",
       "      <td>4.0.4</td>\n",
       "      <td>4+</td>\n",
       "      <td>Games</td>\n",
       "      <td>38</td>\n",
       "      <td>0</td>\n",
       "      <td>10</td>\n",
       "      <td>1</td>\n",
       "      <td>Now with MFi controller support!\\r\\n\\r\\nMs. PA...</td>\n",
       "    </tr>\n",
       "  </tbody>\n",
       "</table>\n",
       "</div>"
      ],
      "text/plain": [
       "          id                                       track_name_x  size_bytes_x  \\\n",
       "0  281656475                                    PAC-MAN Premium     100788224   \n",
       "1  281796108                          Evernote - stay organized     158578688   \n",
       "2  281940292    WeatherBug - Local Weather, Radar, Maps, Alerts     100524032   \n",
       "3  282614216  eBay: Best App to Buy, Sell, Save! Online Shop...     128512000   \n",
       "4  282935706                                              Bible      92774400   \n",
       "5  283619399                                   Shanghai Mahjong      10485713   \n",
       "6  283646709             PayPal - Send and request money safely     227795968   \n",
       "7  284035177                            Pandora - Music & Radio     130242560   \n",
       "8  284666222                        PCalc - The Best Calculator      49250304   \n",
       "9  284736660                                        Ms. PAC-MAN      70023168   \n",
       "\n",
       "  currency  price  rating_count_tot  rating_count_ver  user_rating  \\\n",
       "0      USD   3.99             21292                26          4.0   \n",
       "1      USD   0.00            161065                26          4.0   \n",
       "2      USD   0.00            188583              2822          3.5   \n",
       "3      USD   0.00            262241               649          4.0   \n",
       "4      USD   0.00            985920              5320          4.5   \n",
       "5      USD   0.99              8253              5516          4.0   \n",
       "6      USD   0.00            119487               879          4.0   \n",
       "7      USD   0.00           1126879              3594          4.0   \n",
       "8      USD   9.99              1117                 4          4.5   \n",
       "9      USD   3.99              7885                40          4.0   \n",
       "\n",
       "   user_rating_ver     ver cont_rating   prime_genre  sup_devices.num  \\\n",
       "0              4.5   6.3.5          4+         Games               38   \n",
       "1              3.5   8.2.2          4+  Productivity               37   \n",
       "2              4.5   5.0.0          4+       Weather               37   \n",
       "3              4.5  5.10.0         12+      Shopping               37   \n",
       "4              5.0   7.5.1          4+     Reference               37   \n",
       "5              4.0     1.8          4+         Games               47   \n",
       "6              4.5  6.12.0          4+       Finance               37   \n",
       "7              4.5   8.4.1         12+         Music               37   \n",
       "8              5.0   3.6.6          4+     Utilities               37   \n",
       "9              4.0   4.0.4          4+         Games               38   \n",
       "\n",
       "   ipadSc_urls.num  lang.num  vpp_lic  \\\n",
       "0                5        10        1   \n",
       "1                5        23        1   \n",
       "2                5         3        1   \n",
       "3                5         9        1   \n",
       "4                5        45        1   \n",
       "5                5         1        1   \n",
       "6                0        19        1   \n",
       "7                4         1        1   \n",
       "8                5         1        1   \n",
       "9                0        10        1   \n",
       "\n",
       "                                            app_desc  \n",
       "0  SAVE 20%, now only $3.99 for a limited time!\\r...  \n",
       "1  Let Evernote change the way you organize your ...  \n",
       "2  Download the most popular free weather app pow...  \n",
       "3  The eBay app is the best way to find anything ...  \n",
       "4  On more than 250 million devices around the wo...  \n",
       "5  ★ WINNER \"BEST GAME\" 2009\\r\\n★ 3rd PLACE WINNE...  \n",
       "6  Description\\r\\nTAP INTO YOUR MONEY\\r\\nSend mon...  \n",
       "7  Find the music you love and let the music you ...  \n",
       "8  PCalc is the powerful choice for scientists, e...  \n",
       "9  Now with MFi controller support!\\r\\n\\r\\nMs. PA...  "
      ]
     },
     "execution_count": 1,
     "metadata": {},
     "output_type": "execute_result"
    }
   ],
   "source": [
    "# importing essential libraries\n",
    "import numpy as np\n",
    "import pandas as pd\n",
    "import matplotlib.pyplot as plt\n",
    "import seaborn as sns\n",
    "\n",
    "data1 = pd.read_csv('Mobile_App_Store_Data/appleStore.csv')\n",
    "data2 = pd.read_csv('Mobile_App_Store_Data/appleStore_description.csv')\n",
    "\n",
    "# merge data\n",
    "data = pd.merge(data1, data2, how='outer', on=['id', 'id'])\n",
    "\n",
    "# clean\n",
    "data = data.drop('Unnamed: 0', axis=1)\n",
    "data = data.drop('track_name_y', axis=1)\n",
    "data = data.drop('size_bytes_y', axis=1)\n",
    "\n",
    "# show\n",
    "data.head(10)"
   ]
  },
  {
   "cell_type": "markdown",
   "metadata": {},
   "source": [
    "# QUESTION 4"
   ]
  },
  {
   "cell_type": "markdown",
   "metadata": {},
   "source": [
    "Which genres get the most user feedback, which the least?"
   ]
  },
  {
   "cell_type": "code",
   "execution_count": 2,
   "metadata": {},
   "outputs": [
    {
     "data": {
      "text/plain": [
       "prime_genre\n",
       "Games                52878491\n",
       "Social Networking     7598316\n",
       "Photo & Video         5008946\n",
       "Entertainment         4030518\n",
       "Music                 3980199\n",
       "Shopping              2271070\n",
       "Health & Fitness      1784371\n",
       "Utilities             1702228\n",
       "Sports                1599070\n",
       "Weather               1597034\n",
       "Reference             1434294\n",
       "Productivity          1433136\n",
       "Finance               1148956\n",
       "Travel                1144485\n",
       "Education             1014371\n",
       "News                   976130\n",
       "Lifestyle              887294\n",
       "Food & Drink           878133\n",
       "Book                   574049\n",
       "Navigation             545282\n",
       "Business               272921\n",
       "Catalogs                17325\n",
       "Medical                 13634\n",
       "Name: rating_count_tot, dtype: int64"
      ]
     },
     "execution_count": 2,
     "metadata": {},
     "output_type": "execute_result"
    }
   ],
   "source": [
    "#grouping and organizing (descending) variables \"prime_genre\" and \"rating_count_tot\"\n",
    "data.groupby([\"prime_genre\"])[\"rating_count_tot\"].sum().sort_values(ascending=False)"
   ]
  },
  {
   "cell_type": "markdown",
   "metadata": {},
   "source": [
    "As we can see the genre with the most user feedback is **\"Games\"** and the genre with the least user feedback is **\"Medical\"** "
   ]
  },
  {
   "cell_type": "code",
   "execution_count": 3,
   "metadata": {},
   "outputs": [],
   "source": [
    "#Ploting for better viewing \n",
    "Genre_rating = data.groupby([\"prime_genre\"])[\"rating_count_tot\"].sum().sort_values(ascending=False)"
   ]
  },
  {
   "cell_type": "code",
   "execution_count": 52,
   "metadata": {},
   "outputs": [
    {
     "data": {
      "text/plain": [
       "[]"
      ]
     },
     "execution_count": 52,
     "metadata": {},
     "output_type": "execute_result"
    },
    {
     "data": {
      "image/png": "[encoded data removed]",
      "text/plain": [
       "<Figure size 432x288 with 1 Axes>"
      ]
     },
     "metadata": {
      "needs_background": "light"
     },
     "output_type": "display_data"
    }
   ],
   "source": [
    "Genre_rating_plot = Genre_rating.plot.bar()\n",
    "plt.title(\"Number of user rating for Genre\")\n",
    "plt.xlabel(\"Genre\")\n",
    "plt.ylabel (\"User rating\")\n",
    "plt.yscale(\"log\")\n",
    "Genre_rating_plot.plot()\n",
    "#change the scale"
   ]
  },
  {
   "cell_type": "markdown",
   "metadata": {},
   "source": [
    "**Note:** it is important to point out that \"Games\" is by far the type of genre with the most  user feedback."
   ]
  },
  {
   "cell_type": "markdown",
   "metadata": {},
   "source": [
    "# QUESTION 7"
   ]
  },
  {
   "cell_type": "markdown",
   "metadata": {},
   "source": [
    "How many apps are there per genre? what percentage do they represent?"
   ]
  },
  {
   "cell_type": "code",
   "execution_count": 5,
   "metadata": {},
   "outputs": [
    {
     "data": {
      "text/plain": [
       "prime_genre\n",
       "Games                3862\n",
       "Entertainment         535\n",
       "Education             453\n",
       "Photo & Video         349\n",
       "Utilities             248\n",
       "Health & Fitness      180\n",
       "Productivity          178\n",
       "Social Networking     167\n",
       "Lifestyle             144\n",
       "Music                 138\n",
       "Shopping              122\n",
       "Sports                114\n",
       "Book                  112\n",
       "Finance               104\n",
       "Travel                 81\n",
       "News                   75\n",
       "Weather                72\n",
       "Reference              64\n",
       "Food & Drink           63\n",
       "Business               57\n",
       "Navigation             46\n",
       "Medical                23\n",
       "Catalogs               10\n",
       "Name: track_name_x, dtype: int64"
      ]
     },
     "execution_count": 5,
     "metadata": {},
     "output_type": "execute_result"
    }
   ],
   "source": [
    "# How many apps are there per genre?\n",
    "data.groupby([\"prime_genre\"])[\"track_name_x\"].count().sort_values(ascending=False)"
   ]
  },
  {
   "cell_type": "code",
   "execution_count": 55,
   "metadata": {},
   "outputs": [
    {
     "data": {
      "text/plain": [
       "Text(0, 0.5, 'User rating')"
      ]
     },
     "execution_count": 55,
     "metadata": {},
     "output_type": "execute_result"
    },
    {
     "data": {
      "image/png": "[encoded data removed]",
      "text/plain": [
       "<Figure size 432x288 with 1 Axes>"
      ]
     },
     "metadata": {
      "needs_background": "light"
     },
     "output_type": "display_data"
    }
   ],
   "source": [
    "Number_apps_genre=data.groupby([\"prime_genre\"])[\"track_name_x\"].count().sort_values(ascending=False)\n",
    "Number_apps_genre=Number_apps_genre.plot.bar()\n",
    "plt.title(\"Number of apps for Genre\")\n",
    "plt.xlabel(\"Genre\")\n",
    "plt.ylabel (\"User rating\")"
   ]
  },
  {
   "cell_type": "code",
   "execution_count": 30,
   "metadata": {},
   "outputs": [
    {
     "data": {
      "text/html": [
       "<div>\n",
       "<style scoped>\n",
       "    .dataframe tbody tr th:only-of-type {\n",
       "        vertical-align: middle;\n",
       "    }\n",
       "\n",
       "    .dataframe tbody tr th {\n",
       "        vertical-align: top;\n",
       "    }\n",
       "\n",
       "    .dataframe thead th {\n",
       "        text-align: right;\n",
       "    }\n",
       "</style>\n",
       "<table border=\"1\" class=\"dataframe\">\n",
       "  <thead>\n",
       "    <tr style=\"text-align: right;\">\n",
       "      <th></th>\n",
       "      <th>total_apps</th>\n",
       "    </tr>\n",
       "    <tr>\n",
       "      <th>prime_genre</th>\n",
       "      <th></th>\n",
       "    </tr>\n",
       "  </thead>\n",
       "  <tbody>\n",
       "    <tr>\n",
       "      <th>Games</th>\n",
       "      <td>53.66</td>\n",
       "    </tr>\n",
       "    <tr>\n",
       "      <th>Entertainment</th>\n",
       "      <td>7.43</td>\n",
       "    </tr>\n",
       "    <tr>\n",
       "      <th>Education</th>\n",
       "      <td>6.29</td>\n",
       "    </tr>\n",
       "    <tr>\n",
       "      <th>Photo &amp; Video</th>\n",
       "      <td>4.85</td>\n",
       "    </tr>\n",
       "    <tr>\n",
       "      <th>Utilities</th>\n",
       "      <td>3.45</td>\n",
       "    </tr>\n",
       "    <tr>\n",
       "      <th>Health &amp; Fitness</th>\n",
       "      <td>2.50</td>\n",
       "    </tr>\n",
       "    <tr>\n",
       "      <th>Productivity</th>\n",
       "      <td>2.47</td>\n",
       "    </tr>\n",
       "    <tr>\n",
       "      <th>Social Networking</th>\n",
       "      <td>2.32</td>\n",
       "    </tr>\n",
       "    <tr>\n",
       "      <th>Lifestyle</th>\n",
       "      <td>2.00</td>\n",
       "    </tr>\n",
       "    <tr>\n",
       "      <th>Music</th>\n",
       "      <td>1.92</td>\n",
       "    </tr>\n",
       "    <tr>\n",
       "      <th>Shopping</th>\n",
       "      <td>1.70</td>\n",
       "    </tr>\n",
       "    <tr>\n",
       "      <th>Sports</th>\n",
       "      <td>1.58</td>\n",
       "    </tr>\n",
       "    <tr>\n",
       "      <th>Book</th>\n",
       "      <td>1.56</td>\n",
       "    </tr>\n",
       "    <tr>\n",
       "      <th>Finance</th>\n",
       "      <td>1.45</td>\n",
       "    </tr>\n",
       "    <tr>\n",
       "      <th>Travel</th>\n",
       "      <td>1.13</td>\n",
       "    </tr>\n",
       "    <tr>\n",
       "      <th>News</th>\n",
       "      <td>1.04</td>\n",
       "    </tr>\n",
       "    <tr>\n",
       "      <th>Weather</th>\n",
       "      <td>1.00</td>\n",
       "    </tr>\n",
       "    <tr>\n",
       "      <th>Reference</th>\n",
       "      <td>0.89</td>\n",
       "    </tr>\n",
       "    <tr>\n",
       "      <th>Food &amp; Drink</th>\n",
       "      <td>0.88</td>\n",
       "    </tr>\n",
       "    <tr>\n",
       "      <th>Business</th>\n",
       "      <td>0.79</td>\n",
       "    </tr>\n",
       "    <tr>\n",
       "      <th>Navigation</th>\n",
       "      <td>0.64</td>\n",
       "    </tr>\n",
       "    <tr>\n",
       "      <th>Medical</th>\n",
       "      <td>0.32</td>\n",
       "    </tr>\n",
       "    <tr>\n",
       "      <th>Catalogs</th>\n",
       "      <td>0.14</td>\n",
       "    </tr>\n",
       "  </tbody>\n",
       "</table>\n",
       "</div>"
      ],
      "text/plain": [
       "                   total_apps\n",
       "prime_genre                  \n",
       "Games                   53.66\n",
       "Entertainment            7.43\n",
       "Education                6.29\n",
       "Photo & Video            4.85\n",
       "Utilities                3.45\n",
       "Health & Fitness         2.50\n",
       "Productivity             2.47\n",
       "Social Networking        2.32\n",
       "Lifestyle                2.00\n",
       "Music                    1.92\n",
       "Shopping                 1.70\n",
       "Sports                   1.58\n",
       "Book                     1.56\n",
       "Finance                  1.45\n",
       "Travel                   1.13\n",
       "News                     1.04\n",
       "Weather                  1.00\n",
       "Reference                0.89\n",
       "Food & Drink             0.88\n",
       "Business                 0.79\n",
       "Navigation               0.64\n",
       "Medical                  0.32\n",
       "Catalogs                 0.14"
      ]
     },
     "execution_count": 30,
     "metadata": {},
     "output_type": "execute_result"
    }
   ],
   "source": [
    "#what percentage do they represent?\n",
    "Total_app_Genre=data.groupby(\"prime_genre\").agg(total_apps = (\"track_name_x\",\"count\"))\n",
    "Percent_per_genre=Total_app_Genre.apply(lambda x: round(100*x/float(x.sum()),2)).sort_values(by=\"total_apps\", ascending=False)\n",
    "Percent_per_genre"
   ]
  },
  {
   "cell_type": "code",
   "execution_count": 54,
   "metadata": {},
   "outputs": [],
   "source": [
    "#plotting the top 5 genre with the highest number of apps\n",
    "\n",
    "#defining the top 5 dataframe and the \"others\"\n",
    "top_5_df=Percent_per_genre[:5].copy()\n",
    "others = pd.DataFrame(data={\"prime_genre\":[\"other\"], \"total_apps\": Percent_per_genre[\"total_apps\"][5:].sum()}).set_index(\"prime_genre\")\n"
   ]
  },
  {
   "cell_type": "code",
   "execution_count": 32,
   "metadata": {},
   "outputs": [
    {
     "data": {
      "text/html": [
       "<div>\n",
       "<style scoped>\n",
       "    .dataframe tbody tr th:only-of-type {\n",
       "        vertical-align: middle;\n",
       "    }\n",
       "\n",
       "    .dataframe tbody tr th {\n",
       "        vertical-align: top;\n",
       "    }\n",
       "\n",
       "    .dataframe thead th {\n",
       "        text-align: right;\n",
       "    }\n",
       "</style>\n",
       "<table border=\"1\" class=\"dataframe\">\n",
       "  <thead>\n",
       "    <tr style=\"text-align: right;\">\n",
       "      <th></th>\n",
       "      <th>total_apps</th>\n",
       "    </tr>\n",
       "    <tr>\n",
       "      <th>prime_genre</th>\n",
       "      <th></th>\n",
       "    </tr>\n",
       "  </thead>\n",
       "  <tbody>\n",
       "    <tr>\n",
       "      <th>other</th>\n",
       "      <td>24.33</td>\n",
       "    </tr>\n",
       "  </tbody>\n",
       "</table>\n",
       "</div>"
      ],
      "text/plain": [
       "             total_apps\n",
       "prime_genre            \n",
       "other             24.33"
      ]
     },
     "execution_count": 32,
     "metadata": {},
     "output_type": "execute_result"
    }
   ],
   "source": [
    "others"
   ]
  },
  {
   "cell_type": "code",
   "execution_count": 33,
   "metadata": {},
   "outputs": [
    {
     "data": {
      "text/html": [
       "<div>\n",
       "<style scoped>\n",
       "    .dataframe tbody tr th:only-of-type {\n",
       "        vertical-align: middle;\n",
       "    }\n",
       "\n",
       "    .dataframe tbody tr th {\n",
       "        vertical-align: top;\n",
       "    }\n",
       "\n",
       "    .dataframe thead th {\n",
       "        text-align: right;\n",
       "    }\n",
       "</style>\n",
       "<table border=\"1\" class=\"dataframe\">\n",
       "  <thead>\n",
       "    <tr style=\"text-align: right;\">\n",
       "      <th></th>\n",
       "      <th>total_apps</th>\n",
       "    </tr>\n",
       "    <tr>\n",
       "      <th>prime_genre</th>\n",
       "      <th></th>\n",
       "    </tr>\n",
       "  </thead>\n",
       "  <tbody>\n",
       "    <tr>\n",
       "      <th>Games</th>\n",
       "      <td>53.66</td>\n",
       "    </tr>\n",
       "    <tr>\n",
       "      <th>Entertainment</th>\n",
       "      <td>7.43</td>\n",
       "    </tr>\n",
       "    <tr>\n",
       "      <th>Education</th>\n",
       "      <td>6.29</td>\n",
       "    </tr>\n",
       "    <tr>\n",
       "      <th>Photo &amp; Video</th>\n",
       "      <td>4.85</td>\n",
       "    </tr>\n",
       "    <tr>\n",
       "      <th>Utilities</th>\n",
       "      <td>3.45</td>\n",
       "    </tr>\n",
       "    <tr>\n",
       "      <th>other</th>\n",
       "      <td>24.33</td>\n",
       "    </tr>\n",
       "  </tbody>\n",
       "</table>\n",
       "</div>"
      ],
      "text/plain": [
       "               total_apps\n",
       "prime_genre              \n",
       "Games               53.66\n",
       "Entertainment        7.43\n",
       "Education            6.29\n",
       "Photo & Video        4.85\n",
       "Utilities            3.45\n",
       "other               24.33"
      ]
     },
     "execution_count": 33,
     "metadata": {},
     "output_type": "execute_result"
    }
   ],
   "source": [
    "#combining top_5_df with others\n",
    "New_percent_per_genre=pd.concat([top_5_df, others])\n",
    "New_percent_per_genre"
   ]
  },
  {
   "cell_type": "code",
   "execution_count": 62,
   "metadata": {},
   "outputs": [
    {
     "data": {
      "text/plain": [
       "[]"
      ]
     },
     "execution_count": 62,
     "metadata": {},
     "output_type": "execute_result"
    },
    {
     "data": {
      "image/png": "[encoded data removed]",
      "text/plain": [
       "<Figure size 432x288 with 1 Axes>"
      ]
     },
     "metadata": {},
     "output_type": "display_data"
    }
   ],
   "source": [
    "p2 = New_percent_per_genre.plot(kind=\"pie\", y=\"total_apps\", autopct='%1.1f%%', title=\"Top 5 Percentage of apps per genre\", labels=None)\n",
    "\n",
    "p2.legend(labels=New_percent_per_genre.index, title=\"Genres\", loc=\"center left\", bbox_to_anchor=(1, 0, 0.5, 1))\n",
    "p2.plot()"
   ]
  },
  {
   "cell_type": "markdown",
   "metadata": {},
   "source": [
    "**Conclusion** more than half of the apps in the dataset belong to the \"Game\" cathegory. The other top 5 genres have a much lower percentage of participation."
   ]
  }
 ],
 "metadata": {
  "kernelspec": {
   "display_name": "Python 3",
   "language": "python",
   "name": "python3"
  },
  "language_info": {
   "codemirror_mode": {
    "name": "ipython",
    "version": 3
   },
   "file_extension": ".py",
   "mimetype": "text/x-python",
   "name": "python",
   "nbconvert_exporter": "python",
   "pygments_lexer": "ipython3",
   "version": "3.7.7"
  }
 },
 "nbformat": 4,
 "nbformat_minor": 4
}
