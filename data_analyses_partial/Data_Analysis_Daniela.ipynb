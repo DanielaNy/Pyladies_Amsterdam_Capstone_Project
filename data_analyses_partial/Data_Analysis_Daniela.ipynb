{
 "cells": [
  {
   "cell_type": "markdown",
   "metadata": {},
   "source": [
    "## Data Analysis - Daniela\n"
   ]
  },
  {
   "cell_type": "code",
   "execution_count": 1,
   "metadata": {},
   "outputs": [],
   "source": [
    "import numpy as np\n",
    "import pandas as pd\n",
    "import matplotlib.pyplot as plt\n",
    "import seaborn as sns\n",
    "\n",
    "%matplotlib inline"
   ]
  },
  {
   "cell_type": "code",
   "execution_count": 2,
   "metadata": {},
   "outputs": [
    {
     "data": {
      "text/html": [
       "<div>\n",
       "<style scoped>\n",
       "    .dataframe tbody tr th:only-of-type {\n",
       "        vertical-align: middle;\n",
       "    }\n",
       "\n",
       "    .dataframe tbody tr th {\n",
       "        vertical-align: top;\n",
       "    }\n",
       "\n",
       "    .dataframe thead th {\n",
       "        text-align: right;\n",
       "    }\n",
       "</style>\n",
       "<table border=\"1\" class=\"dataframe\">\n",
       "  <thead>\n",
       "    <tr style=\"text-align: right;\">\n",
       "      <th></th>\n",
       "      <th>id</th>\n",
       "      <th>track_name_x</th>\n",
       "      <th>size_bytes_x</th>\n",
       "      <th>currency</th>\n",
       "      <th>price</th>\n",
       "      <th>rating_count_tot</th>\n",
       "      <th>rating_count_ver</th>\n",
       "      <th>user_rating</th>\n",
       "      <th>user_rating_ver</th>\n",
       "      <th>ver</th>\n",
       "      <th>cont_rating</th>\n",
       "      <th>prime_genre</th>\n",
       "      <th>sup_devices.num</th>\n",
       "      <th>ipadSc_urls.num</th>\n",
       "      <th>lang.num</th>\n",
       "      <th>vpp_lic</th>\n",
       "      <th>app_desc</th>\n",
       "    </tr>\n",
       "  </thead>\n",
       "  <tbody>\n",
       "    <tr>\n",
       "      <th>0</th>\n",
       "      <td>281656475</td>\n",
       "      <td>PAC-MAN Premium</td>\n",
       "      <td>100788224</td>\n",
       "      <td>USD</td>\n",
       "      <td>3.99</td>\n",
       "      <td>21292</td>\n",
       "      <td>26</td>\n",
       "      <td>4.0</td>\n",
       "      <td>4.5</td>\n",
       "      <td>6.3.5</td>\n",
       "      <td>4+</td>\n",
       "      <td>Games</td>\n",
       "      <td>38</td>\n",
       "      <td>5</td>\n",
       "      <td>10</td>\n",
       "      <td>1</td>\n",
       "      <td>SAVE 20%, now only $3.99 for a limited time!\\n...</td>\n",
       "    </tr>\n",
       "    <tr>\n",
       "      <th>1</th>\n",
       "      <td>281796108</td>\n",
       "      <td>Evernote - stay organized</td>\n",
       "      <td>158578688</td>\n",
       "      <td>USD</td>\n",
       "      <td>0.00</td>\n",
       "      <td>161065</td>\n",
       "      <td>26</td>\n",
       "      <td>4.0</td>\n",
       "      <td>3.5</td>\n",
       "      <td>8.2.2</td>\n",
       "      <td>4+</td>\n",
       "      <td>Productivity</td>\n",
       "      <td>37</td>\n",
       "      <td>5</td>\n",
       "      <td>23</td>\n",
       "      <td>1</td>\n",
       "      <td>Let Evernote change the way you organize your ...</td>\n",
       "    </tr>\n",
       "    <tr>\n",
       "      <th>2</th>\n",
       "      <td>281940292</td>\n",
       "      <td>WeatherBug - Local Weather, Radar, Maps, Alerts</td>\n",
       "      <td>100524032</td>\n",
       "      <td>USD</td>\n",
       "      <td>0.00</td>\n",
       "      <td>188583</td>\n",
       "      <td>2822</td>\n",
       "      <td>3.5</td>\n",
       "      <td>4.5</td>\n",
       "      <td>5.0.0</td>\n",
       "      <td>4+</td>\n",
       "      <td>Weather</td>\n",
       "      <td>37</td>\n",
       "      <td>5</td>\n",
       "      <td>3</td>\n",
       "      <td>1</td>\n",
       "      <td>Download the most popular free weather app pow...</td>\n",
       "    </tr>\n",
       "  </tbody>\n",
       "</table>\n",
       "</div>"
      ],
      "text/plain": [
       "          id                                     track_name_x  size_bytes_x  \\\n",
       "0  281656475                                  PAC-MAN Premium     100788224   \n",
       "1  281796108                        Evernote - stay organized     158578688   \n",
       "2  281940292  WeatherBug - Local Weather, Radar, Maps, Alerts     100524032   \n",
       "\n",
       "  currency  price  rating_count_tot  rating_count_ver  user_rating  \\\n",
       "0      USD   3.99             21292                26          4.0   \n",
       "1      USD   0.00            161065                26          4.0   \n",
       "2      USD   0.00            188583              2822          3.5   \n",
       "\n",
       "   user_rating_ver    ver cont_rating   prime_genre  sup_devices.num  \\\n",
       "0              4.5  6.3.5          4+         Games               38   \n",
       "1              3.5  8.2.2          4+  Productivity               37   \n",
       "2              4.5  5.0.0          4+       Weather               37   \n",
       "\n",
       "   ipadSc_urls.num  lang.num  vpp_lic  \\\n",
       "0                5        10        1   \n",
       "1                5        23        1   \n",
       "2                5         3        1   \n",
       "\n",
       "                                            app_desc  \n",
       "0  SAVE 20%, now only $3.99 for a limited time!\\n...  \n",
       "1  Let Evernote change the way you organize your ...  \n",
       "2  Download the most popular free weather app pow...  "
      ]
     },
     "execution_count": 2,
     "metadata": {},
     "output_type": "execute_result"
    }
   ],
   "source": [
    "data1 = pd.read_csv('Mobile_App_Store_Data/appleStore.csv')\n",
    "data2 = pd.read_csv('Mobile_App_Store_Data/appleStore_description.csv')\n",
    "\n",
    "# merge data\n",
    "data = pd.merge(data1, data2, how='outer', on=['id', 'id'])\n",
    "\n",
    "# clean\n",
    "data = data.drop('Unnamed: 0', axis=1)\n",
    "data = data.drop('track_name_y', axis=1)\n",
    "data = data.drop('size_bytes_y', axis=1)\n",
    "\n",
    "# show\n",
    "data.head(3)\n"
   ]
  },
  {
   "cell_type": "code",
   "execution_count": 3,
   "metadata": {},
   "outputs": [
    {
     "data": {
      "text/plain": [
       "Index(['id', 'track_name_x', 'size_bytes_x', 'currency', 'price',\n",
       "       'rating_count_tot', 'rating_count_ver', 'user_rating',\n",
       "       'user_rating_ver', 'ver', 'cont_rating', 'prime_genre',\n",
       "       'sup_devices.num', 'ipadSc_urls.num', 'lang.num', 'vpp_lic',\n",
       "       'app_desc'],\n",
       "      dtype='object')"
      ]
     },
     "execution_count": 3,
     "metadata": {},
     "output_type": "execute_result"
    }
   ],
   "source": [
    "data.columns"
   ]
  },
  {
   "cell_type": "markdown",
   "metadata": {},
   "source": [
    "### Is there any correlation between columns? - Q2"
   ]
  },
  {
   "cell_type": "code",
   "execution_count": 4,
   "metadata": {},
   "outputs": [],
   "source": [
    "correlations = data.drop('id', axis=1).corr().round(decimals=2)\n"
   ]
  },
  {
   "cell_type": "code",
   "execution_count": 5,
   "metadata": {},
   "outputs": [
    {
     "data": {
      "image/png": "[encoded data removed]",
      "text/plain": [
       "<Figure size 864x288 with 2 Axes>"
      ]
     },
     "metadata": {
      "needs_background": "light"
     },
     "output_type": "display_data"
    }
   ],
   "source": [
    "# correlations for all columns\n",
    "plt.figure(figsize=(12,4))\n",
    "heatmap = sns.heatmap(correlations, annot=True, linewidths=.5, cmap=\"PiYG\", vmin=-1.0, vmax=1.0)\n"
   ]
  },
  {
   "cell_type": "code",
   "execution_count": 6,
   "metadata": {},
   "outputs": [],
   "source": [
    "strong_correlations = correlations[abs(correlations) > 0.17]\n",
    "strong_correlations = strong_correlations[abs(correlations) != 1]"
   ]
  },
  {
   "cell_type": "code",
   "execution_count": 7,
   "metadata": {},
   "outputs": [
    {
     "data": {
      "image/png": "[encoded data removed]",
      "text/plain": [
       "<Figure size 864x288 with 2 Axes>"
      ]
     },
     "metadata": {
      "needs_background": "light"
     },
     "output_type": "display_data"
    }
   ],
   "source": [
    "# only stronger correlations (abs value above 0.16)\n",
    "plt.figure(figsize=(12,4))\n",
    "\n",
    "heatmap = sns.heatmap(strong_correlations, annot=True, linewidths=.5, cmap=\"PiYG\", vmin=-1.0, vmax=1.0)\n"
   ]
  },
  {
   "cell_type": "markdown",
   "metadata": {},
   "source": [
    "From the heat map we can see very strong correlation between user_rating and user_rating_ver.\n",
    "\n",
    "Mid-range correlation seems between user_rating and ipadSc_urls.num, between user_rating_ver and ipadSc_urls.num.\n",
    "\n",
    "Slight correlation may be present between size_bytes_x and prize and between lang.num and user_rating_ver."
   ]
  },
  {
   "cell_type": "markdown",
   "metadata": {},
   "source": [
    "### A visualization of average user_rating vs average price per category - Q6\n"
   ]
  },
  {
   "cell_type": "code",
   "execution_count": 8,
   "metadata": {},
   "outputs": [],
   "source": [
    "import plotly.express as px"
   ]
  },
  {
   "cell_type": "code",
   "execution_count": 15,
   "metadata": {},
   "outputs": [
    {
     "name": "stderr",
     "output_type": "stream",
     "text": [
      "<ipython-input-15-80bea46c46df>:7: FutureWarning: Indexing with multiple keys (implicitly converted to a tuple of keys) will be deprecated, use a list instead.\n",
      "  average_rating_category = data.groupby(['prime_genre'])['user_rating', 'price', 'rating_count_tot', 'sup_devices.num'].mean().reset_index()\n"
     ]
    },
    {
     "data": {
      "text/html": [
       "<div>\n",
       "<style scoped>\n",
       "    .dataframe tbody tr th:only-of-type {\n",
       "        vertical-align: middle;\n",
       "    }\n",
       "\n",
       "    .dataframe tbody tr th {\n",
       "        vertical-align: top;\n",
       "    }\n",
       "\n",
       "    .dataframe thead th {\n",
       "        text-align: right;\n",
       "    }\n",
       "</style>\n",
       "<table border=\"1\" class=\"dataframe\">\n",
       "  <thead>\n",
       "    <tr style=\"text-align: right;\">\n",
       "      <th></th>\n",
       "      <th>user_rating</th>\n",
       "      <th>price</th>\n",
       "      <th>rating_count_tot</th>\n",
       "      <th>sup_devices.num</th>\n",
       "      <th>Category</th>\n",
       "    </tr>\n",
       "    <tr>\n",
       "      <th>prime_genre</th>\n",
       "      <th></th>\n",
       "      <th></th>\n",
       "      <th></th>\n",
       "      <th></th>\n",
       "      <th></th>\n",
       "    </tr>\n",
       "  </thead>\n",
       "  <tbody>\n",
       "    <tr>\n",
       "      <th>Book</th>\n",
       "      <td>2.477679</td>\n",
       "      <td>1.790536</td>\n",
       "      <td>5125.437500</td>\n",
       "      <td>37.544643</td>\n",
       "      <td>Book</td>\n",
       "    </tr>\n",
       "    <tr>\n",
       "      <th>Business</th>\n",
       "      <td>3.745614</td>\n",
       "      <td>5.116316</td>\n",
       "      <td>4788.087719</td>\n",
       "      <td>36.122807</td>\n",
       "      <td>Business</td>\n",
       "    </tr>\n",
       "    <tr>\n",
       "      <th>Catalogs</th>\n",
       "      <td>2.100000</td>\n",
       "      <td>0.799000</td>\n",
       "      <td>1732.500000</td>\n",
       "      <td>37.300000</td>\n",
       "      <td>Catalogs</td>\n",
       "    </tr>\n",
       "    <tr>\n",
       "      <th>Education</th>\n",
       "      <td>3.376380</td>\n",
       "      <td>4.028234</td>\n",
       "      <td>2239.229581</td>\n",
       "      <td>36.675497</td>\n",
       "      <td>Education</td>\n",
       "    </tr>\n",
       "    <tr>\n",
       "      <th>Entertainment</th>\n",
       "      <td>3.246729</td>\n",
       "      <td>0.889701</td>\n",
       "      <td>7533.678505</td>\n",
       "      <td>36.671028</td>\n",
       "      <td>Entertainment</td>\n",
       "    </tr>\n",
       "    <tr>\n",
       "      <th>Finance</th>\n",
       "      <td>2.432692</td>\n",
       "      <td>0.421154</td>\n",
       "      <td>11047.653846</td>\n",
       "      <td>36.836538</td>\n",
       "      <td>Finance</td>\n",
       "    </tr>\n",
       "    <tr>\n",
       "      <th>Food &amp; Drink</th>\n",
       "      <td>3.182540</td>\n",
       "      <td>1.552381</td>\n",
       "      <td>13938.619048</td>\n",
       "      <td>36.920635</td>\n",
       "      <td>Food &amp; Drink</td>\n",
       "    </tr>\n",
       "    <tr>\n",
       "      <th>Games</th>\n",
       "      <td>3.685008</td>\n",
       "      <td>1.432923</td>\n",
       "      <td>13691.996634</td>\n",
       "      <td>38.018384</td>\n",
       "      <td>Games</td>\n",
       "    </tr>\n",
       "    <tr>\n",
       "      <th>Health &amp; Fitness</th>\n",
       "      <td>3.700000</td>\n",
       "      <td>1.916444</td>\n",
       "      <td>9913.172222</td>\n",
       "      <td>35.888889</td>\n",
       "      <td>Health &amp; Fitness</td>\n",
       "    </tr>\n",
       "    <tr>\n",
       "      <th>Lifestyle</th>\n",
       "      <td>2.805556</td>\n",
       "      <td>0.885417</td>\n",
       "      <td>6161.763889</td>\n",
       "      <td>37.069444</td>\n",
       "      <td>Lifestyle</td>\n",
       "    </tr>\n",
       "    <tr>\n",
       "      <th>Medical</th>\n",
       "      <td>3.369565</td>\n",
       "      <td>8.776087</td>\n",
       "      <td>592.782609</td>\n",
       "      <td>36.652174</td>\n",
       "      <td>Medical</td>\n",
       "    </tr>\n",
       "    <tr>\n",
       "      <th>Music</th>\n",
       "      <td>3.978261</td>\n",
       "      <td>4.835435</td>\n",
       "      <td>28842.021739</td>\n",
       "      <td>35.471014</td>\n",
       "      <td>Music</td>\n",
       "    </tr>\n",
       "    <tr>\n",
       "      <th>Navigation</th>\n",
       "      <td>2.684783</td>\n",
       "      <td>4.124783</td>\n",
       "      <td>11853.956522</td>\n",
       "      <td>36.239130</td>\n",
       "      <td>Navigation</td>\n",
       "    </tr>\n",
       "    <tr>\n",
       "      <th>News</th>\n",
       "      <td>2.980000</td>\n",
       "      <td>0.517733</td>\n",
       "      <td>13015.066667</td>\n",
       "      <td>36.560000</td>\n",
       "      <td>News</td>\n",
       "    </tr>\n",
       "    <tr>\n",
       "      <th>Photo &amp; Video</th>\n",
       "      <td>3.800860</td>\n",
       "      <td>1.473295</td>\n",
       "      <td>14352.280802</td>\n",
       "      <td>36.756447</td>\n",
       "      <td>Photo &amp; Video</td>\n",
       "    </tr>\n",
       "    <tr>\n",
       "      <th>Productivity</th>\n",
       "      <td>4.005618</td>\n",
       "      <td>4.330562</td>\n",
       "      <td>8051.325843</td>\n",
       "      <td>36.039326</td>\n",
       "      <td>Productivity</td>\n",
       "    </tr>\n",
       "    <tr>\n",
       "      <th>Reference</th>\n",
       "      <td>3.453125</td>\n",
       "      <td>4.836875</td>\n",
       "      <td>22410.843750</td>\n",
       "      <td>36.562500</td>\n",
       "      <td>Reference</td>\n",
       "    </tr>\n",
       "    <tr>\n",
       "      <th>Shopping</th>\n",
       "      <td>3.540984</td>\n",
       "      <td>0.016311</td>\n",
       "      <td>18615.327869</td>\n",
       "      <td>36.622951</td>\n",
       "      <td>Shopping</td>\n",
       "    </tr>\n",
       "    <tr>\n",
       "      <th>Social Networking</th>\n",
       "      <td>2.985030</td>\n",
       "      <td>0.339880</td>\n",
       "      <td>45498.898204</td>\n",
       "      <td>36.520958</td>\n",
       "      <td>Social Networking</td>\n",
       "    </tr>\n",
       "    <tr>\n",
       "      <th>Sports</th>\n",
       "      <td>2.982456</td>\n",
       "      <td>0.953070</td>\n",
       "      <td>14026.929825</td>\n",
       "      <td>36.921053</td>\n",
       "      <td>Sports</td>\n",
       "    </tr>\n",
       "    <tr>\n",
       "      <th>Travel</th>\n",
       "      <td>3.376543</td>\n",
       "      <td>1.120370</td>\n",
       "      <td>14129.444444</td>\n",
       "      <td>37.012346</td>\n",
       "      <td>Travel</td>\n",
       "    </tr>\n",
       "    <tr>\n",
       "      <th>Utilities</th>\n",
       "      <td>3.278226</td>\n",
       "      <td>1.647621</td>\n",
       "      <td>6863.822581</td>\n",
       "      <td>36.685484</td>\n",
       "      <td>Utilities</td>\n",
       "    </tr>\n",
       "    <tr>\n",
       "      <th>Weather</th>\n",
       "      <td>3.597222</td>\n",
       "      <td>1.605417</td>\n",
       "      <td>22181.027778</td>\n",
       "      <td>36.652778</td>\n",
       "      <td>Weather</td>\n",
       "    </tr>\n",
       "  </tbody>\n",
       "</table>\n",
       "</div>"
      ],
      "text/plain": [
       "                   user_rating     price  rating_count_tot  sup_devices.num  \\\n",
       "prime_genre                                                                   \n",
       "Book                  2.477679  1.790536       5125.437500        37.544643   \n",
       "Business              3.745614  5.116316       4788.087719        36.122807   \n",
       "Catalogs              2.100000  0.799000       1732.500000        37.300000   \n",
       "Education             3.376380  4.028234       2239.229581        36.675497   \n",
       "Entertainment         3.246729  0.889701       7533.678505        36.671028   \n",
       "Finance               2.432692  0.421154      11047.653846        36.836538   \n",
       "Food & Drink          3.182540  1.552381      13938.619048        36.920635   \n",
       "Games                 3.685008  1.432923      13691.996634        38.018384   \n",
       "Health & Fitness      3.700000  1.916444       9913.172222        35.888889   \n",
       "Lifestyle             2.805556  0.885417       6161.763889        37.069444   \n",
       "Medical               3.369565  8.776087        592.782609        36.652174   \n",
       "Music                 3.978261  4.835435      28842.021739        35.471014   \n",
       "Navigation            2.684783  4.124783      11853.956522        36.239130   \n",
       "News                  2.980000  0.517733      13015.066667        36.560000   \n",
       "Photo & Video         3.800860  1.473295      14352.280802        36.756447   \n",
       "Productivity          4.005618  4.330562       8051.325843        36.039326   \n",
       "Reference             3.453125  4.836875      22410.843750        36.562500   \n",
       "Shopping              3.540984  0.016311      18615.327869        36.622951   \n",
       "Social Networking     2.985030  0.339880      45498.898204        36.520958   \n",
       "Sports                2.982456  0.953070      14026.929825        36.921053   \n",
       "Travel                3.376543  1.120370      14129.444444        37.012346   \n",
       "Utilities             3.278226  1.647621       6863.822581        36.685484   \n",
       "Weather               3.597222  1.605417      22181.027778        36.652778   \n",
       "\n",
       "                            Category  \n",
       "prime_genre                           \n",
       "Book                            Book  \n",
       "Business                    Business  \n",
       "Catalogs                    Catalogs  \n",
       "Education                  Education  \n",
       "Entertainment          Entertainment  \n",
       "Finance                      Finance  \n",
       "Food & Drink            Food & Drink  \n",
       "Games                          Games  \n",
       "Health & Fitness    Health & Fitness  \n",
       "Lifestyle                  Lifestyle  \n",
       "Medical                      Medical  \n",
       "Music                          Music  \n",
       "Navigation                Navigation  \n",
       "News                            News  \n",
       "Photo & Video          Photo & Video  \n",
       "Productivity            Productivity  \n",
       "Reference                  Reference  \n",
       "Shopping                    Shopping  \n",
       "Social Networking  Social Networking  \n",
       "Sports                        Sports  \n",
       "Travel                        Travel  \n",
       "Utilities                  Utilities  \n",
       "Weather                      Weather  "
      ]
     },
     "execution_count": 15,
     "metadata": {},
     "output_type": "execute_result"
    }
   ],
   "source": [
    "# average_rating_category = data.groupby(['prime_genre'])['user_rating', 'price', 'rating_count_tot', 'sup_devices.num'].mean()\n",
    "# average_rating_category['Category']=average_rating_category['prime_genre']\n",
    "# average_rating_category = average_rating_category.set_index('prime_genre')\n",
    "\n",
    "\n",
    "\n",
    "average_rating_category = data.groupby(['prime_genre'])['user_rating', 'price', 'rating_count_tot', 'sup_devices.num'].mean().reset_index()\n",
    "average_rating_category['Category']=average_rating_category['prime_genre']\n",
    "average_rating_category = average_rating_category.set_index('prime_genre')\n",
    "\n",
    "average_rating_category\n",
    "\n",
    "\n"
   ]
  },
  {
   "cell_type": "code",
   "execution_count": 26,
   "metadata": {},
   "outputs": [
    {
     "name": "stdout",
     "output_type": "stream",
     "text": [
      "Size=rating_count_tot \n"
     ]
    },
    {
     "data": {
      "application/vnd.plotly.v1+json": {
       "config": {
        "plotlyServerURL": "https://plot.ly"
       },
       "data": [
        {
         "hovertemplate": "<b>%{hovertext}</b><br><br>Category=Medical<br>price=%{x}<br>user_rating=%{y}<br>rating_count_tot=%{marker.size}<extra></extra>",
         "hovertext": [
          "Medical"
         ],
         "legendgroup": "Medical",
         "marker": {
          "color": "#636efa",
          "size": [
           592.7826086956521
          ],
          "sizemode": "area",
          "sizeref": 113.74724550898203,
          "symbol": "circle"
         },
         "mode": "markers",
         "name": "Medical",
         "showlegend": true,
         "type": "scatter",
         "x": [
          8.77608695652174
         ],
         "xaxis": "x",
         "y": [
          3.369565217391304
         ],
         "yaxis": "y"
        },
        {
         "hovertemplate": "Category=Medical<extra></extra>",
         "legendgroup": "Medical",
         "marker": {
          "color": "#636efa",
          "symbol": "circle"
         },
         "mode": "lines",
         "name": "Medical",
         "showlegend": false,
         "type": "scatter",
         "xaxis": "x",
         "yaxis": "y"
        },
        {
         "hovertemplate": "<b>%{hovertext}</b><br><br>Category=Weather<br>price=%{x}<br>user_rating=%{y}<br>rating_count_tot=%{marker.size}<extra></extra>",
         "hovertext": [
          "Weather"
         ],
         "legendgroup": "Weather",
         "marker": {
          "color": "#EF553B",
          "size": [
           22181.027777777777
          ],
          "sizemode": "area",
          "sizeref": 113.74724550898203,
          "symbol": "circle"
         },
         "mode": "markers",
         "name": "Weather",
         "showlegend": true,
         "type": "scatter",
         "x": [
          1.6054166666666658
         ],
         "xaxis": "x",
         "y": [
          3.5972222222222223
         ],
         "yaxis": "y"
        },
        {
         "hovertemplate": "Category=Weather<extra></extra>",
         "legendgroup": "Weather",
         "marker": {
          "color": "#EF553B",
          "symbol": "circle"
         },
         "mode": "lines",
         "name": "Weather",
         "showlegend": false,
         "type": "scatter",
         "xaxis": "x",
         "yaxis": "y"
        },
        {
         "hovertemplate": "<b>%{hovertext}</b><br><br>Category=Navigation<br>price=%{x}<br>user_rating=%{y}<br>rating_count_tot=%{marker.size}<extra></extra>",
         "hovertext": [
          "Navigation"
         ],
         "legendgroup": "Navigation",
         "marker": {
          "color": "#00cc96",
          "size": [
           11853.95652173913
          ],
          "sizemode": "area",
          "sizeref": 113.74724550898203,
          "symbol": "circle"
         },
         "mode": "markers",
         "name": "Navigation",
         "showlegend": true,
         "type": "scatter",
         "x": [
          4.1247826086956545
         ],
         "xaxis": "x",
         "y": [
          2.6847826086956523
         ],
         "yaxis": "y"
        },
        {
         "hovertemplate": "Category=Navigation<extra></extra>",
         "legendgroup": "Navigation",
         "marker": {
          "color": "#00cc96",
          "symbol": "circle"
         },
         "mode": "lines",
         "name": "Navigation",
         "showlegend": false,
         "type": "scatter",
         "xaxis": "x",
         "yaxis": "y"
        },
        {
         "hovertemplate": "<b>%{hovertext}</b><br><br>Category=Book<br>price=%{x}<br>user_rating=%{y}<br>rating_count_tot=%{marker.size}<extra></extra>",
         "hovertext": [
          "Book"
         ],
         "legendgroup": "Book",
         "marker": {
          "color": "#ab63fa",
          "size": [
           5125.4375
          ],
          "sizemode": "area",
          "sizeref": 113.74724550898203,
          "symbol": "circle"
         },
         "mode": "markers",
         "name": "Book",
         "showlegend": true,
         "type": "scatter",
         "x": [
          1.7905357142857155
         ],
         "xaxis": "x",
         "y": [
          2.4776785714285716
         ],
         "yaxis": "y"
        },
        {
         "hovertemplate": "Category=Book<extra></extra>",
         "legendgroup": "Book",
         "marker": {
          "color": "#ab63fa",
          "symbol": "circle"
         },
         "mode": "lines",
         "name": "Book",
         "showlegend": false,
         "type": "scatter",
         "xaxis": "x",
         "yaxis": "y"
        },
        {
         "hovertemplate": "<b>%{hovertext}</b><br><br>Category=Social Networking<br>price=%{x}<br>user_rating=%{y}<br>rating_count_tot=%{marker.size}<extra></extra>",
         "hovertext": [
          "Social Networking"
         ],
         "legendgroup": "Social Networking",
         "marker": {
          "color": "#FFA15A",
          "size": [
           45498.89820359281
          ],
          "sizemode": "area",
          "sizeref": 113.74724550898203,
          "symbol": "circle"
         },
         "mode": "markers",
         "name": "Social Networking",
         "showlegend": true,
         "type": "scatter",
         "x": [
          0.3398802395209582
         ],
         "xaxis": "x",
         "y": [
          2.9850299401197606
         ],
         "yaxis": "y"
        },
        {
         "hovertemplate": "Category=Social Networking<extra></extra>",
         "legendgroup": "Social Networking",
         "marker": {
          "color": "#FFA15A",
          "symbol": "circle"
         },
         "mode": "lines",
         "name": "Social Networking",
         "showlegend": false,
         "type": "scatter",
         "xaxis": "x",
         "yaxis": "y"
        },
        {
         "hovertemplate": "<b>%{hovertext}</b><br><br>Category=Games<br>price=%{x}<br>user_rating=%{y}<br>rating_count_tot=%{marker.size}<extra></extra>",
         "hovertext": [
          "Games"
         ],
         "legendgroup": "Games",
         "marker": {
          "color": "#19d3f3",
          "size": [
           13691.996633868463
          ],
          "sizemode": "area",
          "sizeref": 113.74724550898203,
          "symbol": "circle"
         },
         "mode": "markers",
         "name": "Games",
         "showlegend": true,
         "type": "scatter",
         "x": [
          1.4329233557741567
         ],
         "xaxis": "x",
         "y": [
          3.6850077679958573
         ],
         "yaxis": "y"
        },
        {
         "hovertemplate": "Category=Games<extra></extra>",
         "legendgroup": "Games",
         "marker": {
          "color": "#19d3f3",
          "symbol": "circle"
         },
         "mode": "lines",
         "name": "Games",
         "showlegend": false,
         "type": "scatter",
         "xaxis": "x",
         "yaxis": "y"
        },
        {
         "hovertemplate": "<b>%{hovertext}</b><br><br>Category=Education<br>price=%{x}<br>user_rating=%{y}<br>rating_count_tot=%{marker.size}<extra></extra>",
         "hovertext": [
          "Education"
         ],
         "legendgroup": "Education",
         "marker": {
          "color": "#FF6692",
          "size": [
           2239.2295805739514
          ],
          "sizemode": "area",
          "sizeref": 113.74724550898203,
          "symbol": "circle"
         },
         "mode": "markers",
         "name": "Education",
         "showlegend": true,
         "type": "scatter",
         "x": [
          4.028233995584995
         ],
         "xaxis": "x",
         "y": [
          3.376379690949227
         ],
         "yaxis": "y"
        },
        {
         "hovertemplate": "Category=Education<extra></extra>",
         "legendgroup": "Education",
         "marker": {
          "color": "#FF6692",
          "symbol": "circle"
         },
         "mode": "lines",
         "name": "Education",
         "showlegend": false,
         "type": "scatter",
         "xaxis": "x",
         "yaxis": "y"
        },
        {
         "hovertemplate": "<b>%{hovertext}</b><br><br>Category=Shopping<br>price=%{x}<br>user_rating=%{y}<br>rating_count_tot=%{marker.size}<extra></extra>",
         "hovertext": [
          "Shopping"
         ],
         "legendgroup": "Shopping",
         "marker": {
          "color": "#B6E880",
          "size": [
           18615.32786885246
          ],
          "sizemode": "area",
          "sizeref": 113.74724550898203,
          "symbol": "circle"
         },
         "mode": "markers",
         "name": "Shopping",
         "showlegend": true,
         "type": "scatter",
         "x": [
          0.016311475409836067
         ],
         "xaxis": "x",
         "y": [
          3.540983606557377
         ],
         "yaxis": "y"
        },
        {
         "hovertemplate": "Category=Shopping<extra></extra>",
         "legendgroup": "Shopping",
         "marker": {
          "color": "#B6E880",
          "symbol": "circle"
         },
         "mode": "lines",
         "name": "Shopping",
         "showlegend": false,
         "type": "scatter",
         "xaxis": "x",
         "yaxis": "y"
        },
        {
         "hovertemplate": "<b>%{hovertext}</b><br><br>Category=News<br>price=%{x}<br>user_rating=%{y}<br>rating_count_tot=%{marker.size}<extra></extra>",
         "hovertext": [
          "News"
         ],
         "legendgroup": "News",
         "marker": {
          "color": "#FF97FF",
          "size": [
           13015.066666666668
          ],
          "sizemode": "area",
          "sizeref": 113.74724550898203,
          "symbol": "circle"
         },
         "mode": "markers",
         "name": "News",
         "showlegend": true,
         "type": "scatter",
         "x": [
          0.5177333333333334
         ],
         "xaxis": "x",
         "y": [
          2.98
         ],
         "yaxis": "y"
        },
        {
         "hovertemplate": "Category=News<extra></extra>",
         "legendgroup": "News",
         "marker": {
          "color": "#FF97FF",
          "symbol": "circle"
         },
         "mode": "lines",
         "name": "News",
         "showlegend": false,
         "type": "scatter",
         "xaxis": "x",
         "yaxis": "y"
        },
        {
         "hovertemplate": "<b>%{hovertext}</b><br><br>Category=Music<br>price=%{x}<br>user_rating=%{y}<br>rating_count_tot=%{marker.size}<extra></extra>",
         "hovertext": [
          "Music"
         ],
         "legendgroup": "Music",
         "marker": {
          "color": "#FECB52",
          "size": [
           28842.021739130436
          ],
          "sizemode": "area",
          "sizeref": 113.74724550898203,
          "symbol": "circle"
         },
         "mode": "markers",
         "name": "Music",
         "showlegend": true,
         "type": "scatter",
         "x": [
          4.835434782608699
         ],
         "xaxis": "x",
         "y": [
          3.9782608695652173
         ],
         "yaxis": "y"
        },
        {
         "hovertemplate": "Category=Music<extra></extra>",
         "legendgroup": "Music",
         "marker": {
          "color": "#FECB52",
          "symbol": "circle"
         },
         "mode": "lines",
         "name": "Music",
         "showlegend": false,
         "type": "scatter",
         "xaxis": "x",
         "yaxis": "y"
        }
       ],
       "layout": {
        "height": 400,
        "legend": {
         "itemsizing": "constant",
         "title": {
          "text": "Category"
         },
         "tracegroupgap": 0
        },
        "margin": {
         "t": 60
        },
        "template": {
         "data": {
          "bar": [
           {
            "error_x": {
             "color": "#2a3f5f"
            },
            "error_y": {
             "color": "#2a3f5f"
            },
            "marker": {
             "line": {
              "color": "#E5ECF6",
              "width": 0.5
             }
            },
            "type": "bar"
           }
          ],
          "barpolar": [
           {
            "marker": {
             "line": {
              "color": "#E5ECF6",
              "width": 0.5
             }
            },
            "type": "barpolar"
           }
          ],
          "carpet": [
           {
            "aaxis": {
             "endlinecolor": "#2a3f5f",
             "gridcolor": "white",
             "linecolor": "white",
             "minorgridcolor": "white",
             "startlinecolor": "#2a3f5f"
            },
            "baxis": {
             "endlinecolor": "#2a3f5f",
             "gridcolor": "white",
             "linecolor": "white",
             "minorgridcolor": "white",
             "startlinecolor": "#2a3f5f"
            },
            "type": "carpet"
           }
          ],
          "choropleth": [
           {
            "colorbar": {
             "outlinewidth": 0,
             "ticks": ""
            },
            "type": "choropleth"
           }
          ],
          "contour": [
           {
            "colorbar": {
             "outlinewidth": 0,
             "ticks": ""
            },
            "colorscale": [
             [
              0,
              "#0d0887"
             ],
             [
              0.1111111111111111,
              "#46039f"
             ],
             [
              0.2222222222222222,
              "#7201a8"
             ],
             [
              0.3333333333333333,
              "#9c179e"
             ],
             [
              0.4444444444444444,
              "#bd3786"
             ],
             [
              0.5555555555555556,
              "#d8576b"
             ],
             [
              0.6666666666666666,
              "#ed7953"
             ],
             [
              0.7777777777777778,
              "#fb9f3a"
             ],
             [
              0.8888888888888888,
              "#fdca26"
             ],
             [
              1,
              "#f0f921"
             ]
            ],
            "type": "contour"
           }
          ],
          "contourcarpet": [
           {
            "colorbar": {
             "outlinewidth": 0,
             "ticks": ""
            },
            "type": "contourcarpet"
           }
          ],
          "heatmap": [
           {
            "colorbar": {
             "outlinewidth": 0,
             "ticks": ""
            },
            "colorscale": [
             [
              0,
              "#0d0887"
             ],
             [
              0.1111111111111111,
              "#46039f"
             ],
             [
              0.2222222222222222,
              "#7201a8"
             ],
             [
              0.3333333333333333,
              "#9c179e"
             ],
             [
              0.4444444444444444,
              "#bd3786"
             ],
             [
              0.5555555555555556,
              "#d8576b"
             ],
             [
              0.6666666666666666,
              "#ed7953"
             ],
             [
              0.7777777777777778,
              "#fb9f3a"
             ],
             [
              0.8888888888888888,
              "#fdca26"
             ],
             [
              1,
              "#f0f921"
             ]
            ],
            "type": "heatmap"
           }
          ],
          "heatmapgl": [
           {
            "colorbar": {
             "outlinewidth": 0,
             "ticks": ""
            },
            "colorscale": [
             [
              0,
              "#0d0887"
             ],
             [
              0.1111111111111111,
              "#46039f"
             ],
             [
              0.2222222222222222,
              "#7201a8"
             ],
             [
              0.3333333333333333,
              "#9c179e"
             ],
             [
              0.4444444444444444,
              "#bd3786"
             ],
             [
              0.5555555555555556,
              "#d8576b"
             ],
             [
              0.6666666666666666,
              "#ed7953"
             ],
             [
              0.7777777777777778,
              "#fb9f3a"
             ],
             [
              0.8888888888888888,
              "#fdca26"
             ],
             [
              1,
              "#f0f921"
             ]
            ],
            "type": "heatmapgl"
           }
          ],
          "histogram": [
           {
            "marker": {
             "colorbar": {
              "outlinewidth": 0,
              "ticks": ""
             }
            },
            "type": "histogram"
           }
          ],
          "histogram2d": [
           {
            "colorbar": {
             "outlinewidth": 0,
             "ticks": ""
            },
            "colorscale": [
             [
              0,
              "#0d0887"
             ],
             [
              0.1111111111111111,
              "#46039f"
             ],
             [
              0.2222222222222222,
              "#7201a8"
             ],
             [
              0.3333333333333333,
              "#9c179e"
             ],
             [
              0.4444444444444444,
              "#bd3786"
             ],
             [
              0.5555555555555556,
              "#d8576b"
             ],
             [
              0.6666666666666666,
              "#ed7953"
             ],
             [
              0.7777777777777778,
              "#fb9f3a"
             ],
             [
              0.8888888888888888,
              "#fdca26"
             ],
             [
              1,
              "#f0f921"
             ]
            ],
            "type": "histogram2d"
           }
          ],
          "histogram2dcontour": [
           {
            "colorbar": {
             "outlinewidth": 0,
             "ticks": ""
            },
            "colorscale": [
             [
              0,
              "#0d0887"
             ],
             [
              0.1111111111111111,
              "#46039f"
             ],
             [
              0.2222222222222222,
              "#7201a8"
             ],
             [
              0.3333333333333333,
              "#9c179e"
             ],
             [
              0.4444444444444444,
              "#bd3786"
             ],
             [
              0.5555555555555556,
              "#d8576b"
             ],
             [
              0.6666666666666666,
              "#ed7953"
             ],
             [
              0.7777777777777778,
              "#fb9f3a"
             ],
             [
              0.8888888888888888,
              "#fdca26"
             ],
             [
              1,
              "#f0f921"
             ]
            ],
            "type": "histogram2dcontour"
           }
          ],
          "mesh3d": [
           {
            "colorbar": {
             "outlinewidth": 0,
             "ticks": ""
            },
            "type": "mesh3d"
           }
          ],
          "parcoords": [
           {
            "line": {
             "colorbar": {
              "outlinewidth": 0,
              "ticks": ""
             }
            },
            "type": "parcoords"
           }
          ],
          "pie": [
           {
            "automargin": true,
            "type": "pie"
           }
          ],
          "scatter": [
           {
            "marker": {
             "colorbar": {
              "outlinewidth": 0,
              "ticks": ""
             }
            },
            "type": "scatter"
           }
          ],
          "scatter3d": [
           {
            "line": {
             "colorbar": {
              "outlinewidth": 0,
              "ticks": ""
             }
            },
            "marker": {
             "colorbar": {
              "outlinewidth": 0,
              "ticks": ""
             }
            },
            "type": "scatter3d"
           }
          ],
          "scattercarpet": [
           {
            "marker": {
             "colorbar": {
              "outlinewidth": 0,
              "ticks": ""
             }
            },
            "type": "scattercarpet"
           }
          ],
          "scattergeo": [
           {
            "marker": {
             "colorbar": {
              "outlinewidth": 0,
              "ticks": ""
             }
            },
            "type": "scattergeo"
           }
          ],
          "scattergl": [
           {
            "marker": {
             "colorbar": {
              "outlinewidth": 0,
              "ticks": ""
             }
            },
            "type": "scattergl"
           }
          ],
          "scattermapbox": [
           {
            "marker": {
             "colorbar": {
              "outlinewidth": 0,
              "ticks": ""
             }
            },
            "type": "scattermapbox"
           }
          ],
          "scatterpolar": [
           {
            "marker": {
             "colorbar": {
              "outlinewidth": 0,
              "ticks": ""
             }
            },
            "type": "scatterpolar"
           }
          ],
          "scatterpolargl": [
           {
            "marker": {
             "colorbar": {
              "outlinewidth": 0,
              "ticks": ""
             }
            },
            "type": "scatterpolargl"
           }
          ],
          "scatterternary": [
           {
            "marker": {
             "colorbar": {
              "outlinewidth": 0,
              "ticks": ""
             }
            },
            "type": "scatterternary"
           }
          ],
          "surface": [
           {
            "colorbar": {
             "outlinewidth": 0,
             "ticks": ""
            },
            "colorscale": [
             [
              0,
              "#0d0887"
             ],
             [
              0.1111111111111111,
              "#46039f"
             ],
             [
              0.2222222222222222,
              "#7201a8"
             ],
             [
              0.3333333333333333,
              "#9c179e"
             ],
             [
              0.4444444444444444,
              "#bd3786"
             ],
             [
              0.5555555555555556,
              "#d8576b"
             ],
             [
              0.6666666666666666,
              "#ed7953"
             ],
             [
              0.7777777777777778,
              "#fb9f3a"
             ],
             [
              0.8888888888888888,
              "#fdca26"
             ],
             [
              1,
              "#f0f921"
             ]
            ],
            "type": "surface"
           }
          ],
          "table": [
           {
            "cells": {
             "fill": {
              "color": "#EBF0F8"
             },
             "line": {
              "color": "white"
             }
            },
            "header": {
             "fill": {
              "color": "#C8D4E3"
             },
             "line": {
              "color": "white"
             }
            },
            "type": "table"
           }
          ]
         },
         "layout": {
          "annotationdefaults": {
           "arrowcolor": "#2a3f5f",
           "arrowhead": 0,
           "arrowwidth": 1
          },
          "coloraxis": {
           "colorbar": {
            "outlinewidth": 0,
            "ticks": ""
           }
          },
          "colorscale": {
           "diverging": [
            [
             0,
             "#8e0152"
            ],
            [
             0.1,
             "#c51b7d"
            ],
            [
             0.2,
             "#de77ae"
            ],
            [
             0.3,
             "#f1b6da"
            ],
            [
             0.4,
             "#fde0ef"
            ],
            [
             0.5,
             "#f7f7f7"
            ],
            [
             0.6,
             "#e6f5d0"
            ],
            [
             0.7,
             "#b8e186"
            ],
            [
             0.8,
             "#7fbc41"
            ],
            [
             0.9,
             "#4d9221"
            ],
            [
             1,
             "#276419"
            ]
           ],
           "sequential": [
            [
             0,
             "#0d0887"
            ],
            [
             0.1111111111111111,
             "#46039f"
            ],
            [
             0.2222222222222222,
             "#7201a8"
            ],
            [
             0.3333333333333333,
             "#9c179e"
            ],
            [
             0.4444444444444444,
             "#bd3786"
            ],
            [
             0.5555555555555556,
             "#d8576b"
            ],
            [
             0.6666666666666666,
             "#ed7953"
            ],
            [
             0.7777777777777778,
             "#fb9f3a"
            ],
            [
             0.8888888888888888,
             "#fdca26"
            ],
            [
             1,
             "#f0f921"
            ]
           ],
           "sequentialminus": [
            [
             0,
             "#0d0887"
            ],
            [
             0.1111111111111111,
             "#46039f"
            ],
            [
             0.2222222222222222,
             "#7201a8"
            ],
            [
             0.3333333333333333,
             "#9c179e"
            ],
            [
             0.4444444444444444,
             "#bd3786"
            ],
            [
             0.5555555555555556,
             "#d8576b"
            ],
            [
             0.6666666666666666,
             "#ed7953"
            ],
            [
             0.7777777777777778,
             "#fb9f3a"
            ],
            [
             0.8888888888888888,
             "#fdca26"
            ],
            [
             1,
             "#f0f921"
            ]
           ]
          },
          "colorway": [
           "#636efa",
           "#EF553B",
           "#00cc96",
           "#ab63fa",
           "#FFA15A",
           "#19d3f3",
           "#FF6692",
           "#B6E880",
           "#FF97FF",
           "#FECB52"
          ],
          "font": {
           "color": "#2a3f5f"
          },
          "geo": {
           "bgcolor": "white",
           "lakecolor": "white",
           "landcolor": "#E5ECF6",
           "showlakes": true,
           "showland": true,
           "subunitcolor": "white"
          },
          "hoverlabel": {
           "align": "left"
          },
          "hovermode": "closest",
          "mapbox": {
           "style": "light"
          },
          "paper_bgcolor": "white",
          "plot_bgcolor": "#E5ECF6",
          "polar": {
           "angularaxis": {
            "gridcolor": "white",
            "linecolor": "white",
            "ticks": ""
           },
           "bgcolor": "#E5ECF6",
           "radialaxis": {
            "gridcolor": "white",
            "linecolor": "white",
            "ticks": ""
           }
          },
          "scene": {
           "xaxis": {
            "backgroundcolor": "#E5ECF6",
            "gridcolor": "white",
            "gridwidth": 2,
            "linecolor": "white",
            "showbackground": true,
            "ticks": "",
            "zerolinecolor": "white"
           },
           "yaxis": {
            "backgroundcolor": "#E5ECF6",
            "gridcolor": "white",
            "gridwidth": 2,
            "linecolor": "white",
            "showbackground": true,
            "ticks": "",
            "zerolinecolor": "white"
           },
           "zaxis": {
            "backgroundcolor": "#E5ECF6",
            "gridcolor": "white",
            "gridwidth": 2,
            "linecolor": "white",
            "showbackground": true,
            "ticks": "",
            "zerolinecolor": "white"
           }
          },
          "shapedefaults": {
           "line": {
            "color": "#2a3f5f"
           }
          },
          "ternary": {
           "aaxis": {
            "gridcolor": "white",
            "linecolor": "white",
            "ticks": ""
           },
           "baxis": {
            "gridcolor": "white",
            "linecolor": "white",
            "ticks": ""
           },
           "bgcolor": "#E5ECF6",
           "caxis": {
            "gridcolor": "white",
            "linecolor": "white",
            "ticks": ""
           }
          },
          "title": {
           "x": 0.05
          },
          "xaxis": {
           "automargin": true,
           "gridcolor": "white",
           "linecolor": "white",
           "ticks": "",
           "title": {
            "standoff": 15
           },
           "zerolinecolor": "white",
           "zerolinewidth": 2
          },
          "yaxis": {
           "automargin": true,
           "gridcolor": "white",
           "linecolor": "white",
           "ticks": "",
           "title": {
            "standoff": 15
           },
           "zerolinecolor": "white",
           "zerolinewidth": 2
          }
         }
        },
        "width": 600,
        "xaxis": {
         "anchor": "y",
         "domain": [
          0,
          1
         ],
         "title": {
          "text": "price"
         }
        },
        "yaxis": {
         "anchor": "x",
         "domain": [
          0,
          1
         ],
         "title": {
          "text": "user_rating"
         }
        }
       }
      },
      "text/html": [
       "<div>\n",
       "        \n",
       "        \n",
       "            <div id=\"1ebdd413-e4fc-4dec-976b-989b00363722\" class=\"plotly-graph-div\" style=\"height:400px; width:600px;\"></div>\n",
       "            <script type=\"text/javascript\">\n",
       "                require([\"plotly\"], function(Plotly) {\n",
       "                    window.PLOTLYENV=window.PLOTLYENV || {};\n",
       "                    \n",
       "                if (document.getElementById(\"1ebdd413-e4fc-4dec-976b-989b00363722\")) {\n",
       "                    Plotly.newPlot(\n",
       "                        '1ebdd413-e4fc-4dec-976b-989b00363722',\n",
       "                        [{\"hovertemplate\": \"<b>%{hovertext}</b><br><br>Category=Medical<br>price=%{x}<br>user_rating=%{y}<br>rating_count_tot=%{marker.size}<extra></extra>\", \"hovertext\": [\"Medical\"], \"legendgroup\": \"Medical\", \"marker\": {\"color\": \"#636efa\", \"size\": [592.7826086956521], \"sizemode\": \"area\", \"sizeref\": 113.74724550898203, \"symbol\": \"circle\"}, \"mode\": \"markers\", \"name\": \"Medical\", \"showlegend\": true, \"type\": \"scatter\", \"x\": [8.77608695652174], \"xaxis\": \"x\", \"y\": [3.369565217391304], \"yaxis\": \"y\"}, {\"hovertemplate\": \"Category=Medical<extra></extra>\", \"legendgroup\": \"Medical\", \"marker\": {\"color\": \"#636efa\", \"symbol\": \"circle\"}, \"mode\": \"lines\", \"name\": \"Medical\", \"showlegend\": false, \"type\": \"scatter\", \"xaxis\": \"x\", \"yaxis\": \"y\"}, {\"hovertemplate\": \"<b>%{hovertext}</b><br><br>Category=Weather<br>price=%{x}<br>user_rating=%{y}<br>rating_count_tot=%{marker.size}<extra></extra>\", \"hovertext\": [\"Weather\"], \"legendgroup\": \"Weather\", \"marker\": {\"color\": \"#EF553B\", \"size\": [22181.027777777777], \"sizemode\": \"area\", \"sizeref\": 113.74724550898203, \"symbol\": \"circle\"}, \"mode\": \"markers\", \"name\": \"Weather\", \"showlegend\": true, \"type\": \"scatter\", \"x\": [1.6054166666666658], \"xaxis\": \"x\", \"y\": [3.5972222222222223], \"yaxis\": \"y\"}, {\"hovertemplate\": \"Category=Weather<extra></extra>\", \"legendgroup\": \"Weather\", \"marker\": {\"color\": \"#EF553B\", \"symbol\": \"circle\"}, \"mode\": \"lines\", \"name\": \"Weather\", \"showlegend\": false, \"type\": \"scatter\", \"xaxis\": \"x\", \"yaxis\": \"y\"}, {\"hovertemplate\": \"<b>%{hovertext}</b><br><br>Category=Navigation<br>price=%{x}<br>user_rating=%{y}<br>rating_count_tot=%{marker.size}<extra></extra>\", \"hovertext\": [\"Navigation\"], \"legendgroup\": \"Navigation\", \"marker\": {\"color\": \"#00cc96\", \"size\": [11853.95652173913], \"sizemode\": \"area\", \"sizeref\": 113.74724550898203, \"symbol\": \"circle\"}, \"mode\": \"markers\", \"name\": \"Navigation\", \"showlegend\": true, \"type\": \"scatter\", \"x\": [4.1247826086956545], \"xaxis\": \"x\", \"y\": [2.6847826086956523], \"yaxis\": \"y\"}, {\"hovertemplate\": \"Category=Navigation<extra></extra>\", \"legendgroup\": \"Navigation\", \"marker\": {\"color\": \"#00cc96\", \"symbol\": \"circle\"}, \"mode\": \"lines\", \"name\": \"Navigation\", \"showlegend\": false, \"type\": \"scatter\", \"xaxis\": \"x\", \"yaxis\": \"y\"}, {\"hovertemplate\": \"<b>%{hovertext}</b><br><br>Category=Book<br>price=%{x}<br>user_rating=%{y}<br>rating_count_tot=%{marker.size}<extra></extra>\", \"hovertext\": [\"Book\"], \"legendgroup\": \"Book\", \"marker\": {\"color\": \"#ab63fa\", \"size\": [5125.4375], \"sizemode\": \"area\", \"sizeref\": 113.74724550898203, \"symbol\": \"circle\"}, \"mode\": \"markers\", \"name\": \"Book\", \"showlegend\": true, \"type\": \"scatter\", \"x\": [1.7905357142857155], \"xaxis\": \"x\", \"y\": [2.4776785714285716], \"yaxis\": \"y\"}, {\"hovertemplate\": \"Category=Book<extra></extra>\", \"legendgroup\": \"Book\", \"marker\": {\"color\": \"#ab63fa\", \"symbol\": \"circle\"}, \"mode\": \"lines\", \"name\": \"Book\", \"showlegend\": false, \"type\": \"scatter\", \"xaxis\": \"x\", \"yaxis\": \"y\"}, {\"hovertemplate\": \"<b>%{hovertext}</b><br><br>Category=Social Networking<br>price=%{x}<br>user_rating=%{y}<br>rating_count_tot=%{marker.size}<extra></extra>\", \"hovertext\": [\"Social Networking\"], \"legendgroup\": \"Social Networking\", \"marker\": {\"color\": \"#FFA15A\", \"size\": [45498.89820359281], \"sizemode\": \"area\", \"sizeref\": 113.74724550898203, \"symbol\": \"circle\"}, \"mode\": \"markers\", \"name\": \"Social Networking\", \"showlegend\": true, \"type\": \"scatter\", \"x\": [0.3398802395209582], \"xaxis\": \"x\", \"y\": [2.9850299401197606], \"yaxis\": \"y\"}, {\"hovertemplate\": \"Category=Social Networking<extra></extra>\", \"legendgroup\": \"Social Networking\", \"marker\": {\"color\": \"#FFA15A\", \"symbol\": \"circle\"}, \"mode\": \"lines\", \"name\": \"Social Networking\", \"showlegend\": false, \"type\": \"scatter\", \"xaxis\": \"x\", \"yaxis\": \"y\"}, {\"hovertemplate\": \"<b>%{hovertext}</b><br><br>Category=Games<br>price=%{x}<br>user_rating=%{y}<br>rating_count_tot=%{marker.size}<extra></extra>\", \"hovertext\": [\"Games\"], \"legendgroup\": \"Games\", \"marker\": {\"color\": \"#19d3f3\", \"size\": [13691.996633868463], \"sizemode\": \"area\", \"sizeref\": 113.74724550898203, \"symbol\": \"circle\"}, \"mode\": \"markers\", \"name\": \"Games\", \"showlegend\": true, \"type\": \"scatter\", \"x\": [1.4329233557741567], \"xaxis\": \"x\", \"y\": [3.6850077679958573], \"yaxis\": \"y\"}, {\"hovertemplate\": \"Category=Games<extra></extra>\", \"legendgroup\": \"Games\", \"marker\": {\"color\": \"#19d3f3\", \"symbol\": \"circle\"}, \"mode\": \"lines\", \"name\": \"Games\", \"showlegend\": false, \"type\": \"scatter\", \"xaxis\": \"x\", \"yaxis\": \"y\"}, {\"hovertemplate\": \"<b>%{hovertext}</b><br><br>Category=Education<br>price=%{x}<br>user_rating=%{y}<br>rating_count_tot=%{marker.size}<extra></extra>\", \"hovertext\": [\"Education\"], \"legendgroup\": \"Education\", \"marker\": {\"color\": \"#FF6692\", \"size\": [2239.2295805739514], \"sizemode\": \"area\", \"sizeref\": 113.74724550898203, \"symbol\": \"circle\"}, \"mode\": \"markers\", \"name\": \"Education\", \"showlegend\": true, \"type\": \"scatter\", \"x\": [4.028233995584995], \"xaxis\": \"x\", \"y\": [3.376379690949227], \"yaxis\": \"y\"}, {\"hovertemplate\": \"Category=Education<extra></extra>\", \"legendgroup\": \"Education\", \"marker\": {\"color\": \"#FF6692\", \"symbol\": \"circle\"}, \"mode\": \"lines\", \"name\": \"Education\", \"showlegend\": false, \"type\": \"scatter\", \"xaxis\": \"x\", \"yaxis\": \"y\"}, {\"hovertemplate\": \"<b>%{hovertext}</b><br><br>Category=Shopping<br>price=%{x}<br>user_rating=%{y}<br>rating_count_tot=%{marker.size}<extra></extra>\", \"hovertext\": [\"Shopping\"], \"legendgroup\": \"Shopping\", \"marker\": {\"color\": \"#B6E880\", \"size\": [18615.32786885246], \"sizemode\": \"area\", \"sizeref\": 113.74724550898203, \"symbol\": \"circle\"}, \"mode\": \"markers\", \"name\": \"Shopping\", \"showlegend\": true, \"type\": \"scatter\", \"x\": [0.016311475409836067], \"xaxis\": \"x\", \"y\": [3.540983606557377], \"yaxis\": \"y\"}, {\"hovertemplate\": \"Category=Shopping<extra></extra>\", \"legendgroup\": \"Shopping\", \"marker\": {\"color\": \"#B6E880\", \"symbol\": \"circle\"}, \"mode\": \"lines\", \"name\": \"Shopping\", \"showlegend\": false, \"type\": \"scatter\", \"xaxis\": \"x\", \"yaxis\": \"y\"}, {\"hovertemplate\": \"<b>%{hovertext}</b><br><br>Category=News<br>price=%{x}<br>user_rating=%{y}<br>rating_count_tot=%{marker.size}<extra></extra>\", \"hovertext\": [\"News\"], \"legendgroup\": \"News\", \"marker\": {\"color\": \"#FF97FF\", \"size\": [13015.066666666668], \"sizemode\": \"area\", \"sizeref\": 113.74724550898203, \"symbol\": \"circle\"}, \"mode\": \"markers\", \"name\": \"News\", \"showlegend\": true, \"type\": \"scatter\", \"x\": [0.5177333333333334], \"xaxis\": \"x\", \"y\": [2.98], \"yaxis\": \"y\"}, {\"hovertemplate\": \"Category=News<extra></extra>\", \"legendgroup\": \"News\", \"marker\": {\"color\": \"#FF97FF\", \"symbol\": \"circle\"}, \"mode\": \"lines\", \"name\": \"News\", \"showlegend\": false, \"type\": \"scatter\", \"xaxis\": \"x\", \"yaxis\": \"y\"}, {\"hovertemplate\": \"<b>%{hovertext}</b><br><br>Category=Music<br>price=%{x}<br>user_rating=%{y}<br>rating_count_tot=%{marker.size}<extra></extra>\", \"hovertext\": [\"Music\"], \"legendgroup\": \"Music\", \"marker\": {\"color\": \"#FECB52\", \"size\": [28842.021739130436], \"sizemode\": \"area\", \"sizeref\": 113.74724550898203, \"symbol\": \"circle\"}, \"mode\": \"markers\", \"name\": \"Music\", \"showlegend\": true, \"type\": \"scatter\", \"x\": [4.835434782608699], \"xaxis\": \"x\", \"y\": [3.9782608695652173], \"yaxis\": \"y\"}, {\"hovertemplate\": \"Category=Music<extra></extra>\", \"legendgroup\": \"Music\", \"marker\": {\"color\": \"#FECB52\", \"symbol\": \"circle\"}, \"mode\": \"lines\", \"name\": \"Music\", \"showlegend\": false, \"type\": \"scatter\", \"xaxis\": \"x\", \"yaxis\": \"y\"}],\n",
       "                        {\"height\": 400, \"legend\": {\"itemsizing\": \"constant\", \"title\": {\"text\": \"Category\"}, \"tracegroupgap\": 0}, \"margin\": {\"t\": 60}, \"template\": {\"data\": {\"bar\": [{\"error_x\": {\"color\": \"#2a3f5f\"}, \"error_y\": {\"color\": \"#2a3f5f\"}, \"marker\": {\"line\": {\"color\": \"#E5ECF6\", \"width\": 0.5}}, \"type\": \"bar\"}], \"barpolar\": [{\"marker\": {\"line\": {\"color\": \"#E5ECF6\", \"width\": 0.5}}, \"type\": \"barpolar\"}], \"carpet\": [{\"aaxis\": {\"endlinecolor\": \"#2a3f5f\", \"gridcolor\": \"white\", \"linecolor\": \"white\", \"minorgridcolor\": \"white\", \"startlinecolor\": \"#2a3f5f\"}, \"baxis\": {\"endlinecolor\": \"#2a3f5f\", \"gridcolor\": \"white\", \"linecolor\": \"white\", \"minorgridcolor\": \"white\", \"startlinecolor\": \"#2a3f5f\"}, \"type\": \"carpet\"}], \"choropleth\": [{\"colorbar\": {\"outlinewidth\": 0, \"ticks\": \"\"}, \"type\": \"choropleth\"}], \"contour\": [{\"colorbar\": {\"outlinewidth\": 0, \"ticks\": \"\"}, \"colorscale\": [[0.0, \"#0d0887\"], [0.1111111111111111, \"#46039f\"], [0.2222222222222222, \"#7201a8\"], [0.3333333333333333, \"#9c179e\"], [0.4444444444444444, \"#bd3786\"], [0.5555555555555556, \"#d8576b\"], [0.6666666666666666, \"#ed7953\"], [0.7777777777777778, \"#fb9f3a\"], [0.8888888888888888, \"#fdca26\"], [1.0, \"#f0f921\"]], \"type\": \"contour\"}], \"contourcarpet\": [{\"colorbar\": {\"outlinewidth\": 0, \"ticks\": \"\"}, \"type\": \"contourcarpet\"}], \"heatmap\": [{\"colorbar\": {\"outlinewidth\": 0, \"ticks\": \"\"}, \"colorscale\": [[0.0, \"#0d0887\"], [0.1111111111111111, \"#46039f\"], [0.2222222222222222, \"#7201a8\"], [0.3333333333333333, \"#9c179e\"], [0.4444444444444444, \"#bd3786\"], [0.5555555555555556, \"#d8576b\"], [0.6666666666666666, \"#ed7953\"], [0.7777777777777778, \"#fb9f3a\"], [0.8888888888888888, \"#fdca26\"], [1.0, \"#f0f921\"]], \"type\": \"heatmap\"}], \"heatmapgl\": [{\"colorbar\": {\"outlinewidth\": 0, \"ticks\": \"\"}, \"colorscale\": [[0.0, \"#0d0887\"], [0.1111111111111111, \"#46039f\"], [0.2222222222222222, \"#7201a8\"], [0.3333333333333333, \"#9c179e\"], [0.4444444444444444, \"#bd3786\"], [0.5555555555555556, \"#d8576b\"], [0.6666666666666666, \"#ed7953\"], [0.7777777777777778, \"#fb9f3a\"], [0.8888888888888888, \"#fdca26\"], [1.0, \"#f0f921\"]], \"type\": \"heatmapgl\"}], \"histogram\": [{\"marker\": {\"colorbar\": {\"outlinewidth\": 0, \"ticks\": \"\"}}, \"type\": \"histogram\"}], \"histogram2d\": [{\"colorbar\": {\"outlinewidth\": 0, \"ticks\": \"\"}, \"colorscale\": [[0.0, \"#0d0887\"], [0.1111111111111111, \"#46039f\"], [0.2222222222222222, \"#7201a8\"], [0.3333333333333333, \"#9c179e\"], [0.4444444444444444, \"#bd3786\"], [0.5555555555555556, \"#d8576b\"], [0.6666666666666666, \"#ed7953\"], [0.7777777777777778, \"#fb9f3a\"], [0.8888888888888888, \"#fdca26\"], [1.0, \"#f0f921\"]], \"type\": \"histogram2d\"}], \"histogram2dcontour\": [{\"colorbar\": {\"outlinewidth\": 0, \"ticks\": \"\"}, \"colorscale\": [[0.0, \"#0d0887\"], [0.1111111111111111, \"#46039f\"], [0.2222222222222222, \"#7201a8\"], [0.3333333333333333, \"#9c179e\"], [0.4444444444444444, \"#bd3786\"], [0.5555555555555556, \"#d8576b\"], [0.6666666666666666, \"#ed7953\"], [0.7777777777777778, \"#fb9f3a\"], [0.8888888888888888, \"#fdca26\"], [1.0, \"#f0f921\"]], \"type\": \"histogram2dcontour\"}], \"mesh3d\": [{\"colorbar\": {\"outlinewidth\": 0, \"ticks\": \"\"}, \"type\": \"mesh3d\"}], \"parcoords\": [{\"line\": {\"colorbar\": {\"outlinewidth\": 0, \"ticks\": \"\"}}, \"type\": \"parcoords\"}], \"pie\": [{\"automargin\": true, \"type\": \"pie\"}], \"scatter\": [{\"marker\": {\"colorbar\": {\"outlinewidth\": 0, \"ticks\": \"\"}}, \"type\": \"scatter\"}], \"scatter3d\": [{\"line\": {\"colorbar\": {\"outlinewidth\": 0, \"ticks\": \"\"}}, \"marker\": {\"colorbar\": {\"outlinewidth\": 0, \"ticks\": \"\"}}, \"type\": \"scatter3d\"}], \"scattercarpet\": [{\"marker\": {\"colorbar\": {\"outlinewidth\": 0, \"ticks\": \"\"}}, \"type\": \"scattercarpet\"}], \"scattergeo\": [{\"marker\": {\"colorbar\": {\"outlinewidth\": 0, \"ticks\": \"\"}}, \"type\": \"scattergeo\"}], \"scattergl\": [{\"marker\": {\"colorbar\": {\"outlinewidth\": 0, \"ticks\": \"\"}}, \"type\": \"scattergl\"}], \"scattermapbox\": [{\"marker\": {\"colorbar\": {\"outlinewidth\": 0, \"ticks\": \"\"}}, \"type\": \"scattermapbox\"}], \"scatterpolar\": [{\"marker\": {\"colorbar\": {\"outlinewidth\": 0, \"ticks\": \"\"}}, \"type\": \"scatterpolar\"}], \"scatterpolargl\": [{\"marker\": {\"colorbar\": {\"outlinewidth\": 0, \"ticks\": \"\"}}, \"type\": \"scatterpolargl\"}], \"scatterternary\": [{\"marker\": {\"colorbar\": {\"outlinewidth\": 0, \"ticks\": \"\"}}, \"type\": \"scatterternary\"}], \"surface\": [{\"colorbar\": {\"outlinewidth\": 0, \"ticks\": \"\"}, \"colorscale\": [[0.0, \"#0d0887\"], [0.1111111111111111, \"#46039f\"], [0.2222222222222222, \"#7201a8\"], [0.3333333333333333, \"#9c179e\"], [0.4444444444444444, \"#bd3786\"], [0.5555555555555556, \"#d8576b\"], [0.6666666666666666, \"#ed7953\"], [0.7777777777777778, \"#fb9f3a\"], [0.8888888888888888, \"#fdca26\"], [1.0, \"#f0f921\"]], \"type\": \"surface\"}], \"table\": [{\"cells\": {\"fill\": {\"color\": \"#EBF0F8\"}, \"line\": {\"color\": \"white\"}}, \"header\": {\"fill\": {\"color\": \"#C8D4E3\"}, \"line\": {\"color\": \"white\"}}, \"type\": \"table\"}]}, \"layout\": {\"annotationdefaults\": {\"arrowcolor\": \"#2a3f5f\", \"arrowhead\": 0, \"arrowwidth\": 1}, \"coloraxis\": {\"colorbar\": {\"outlinewidth\": 0, \"ticks\": \"\"}}, \"colorscale\": {\"diverging\": [[0, \"#8e0152\"], [0.1, \"#c51b7d\"], [0.2, \"#de77ae\"], [0.3, \"#f1b6da\"], [0.4, \"#fde0ef\"], [0.5, \"#f7f7f7\"], [0.6, \"#e6f5d0\"], [0.7, \"#b8e186\"], [0.8, \"#7fbc41\"], [0.9, \"#4d9221\"], [1, \"#276419\"]], \"sequential\": [[0.0, \"#0d0887\"], [0.1111111111111111, \"#46039f\"], [0.2222222222222222, \"#7201a8\"], [0.3333333333333333, \"#9c179e\"], [0.4444444444444444, \"#bd3786\"], [0.5555555555555556, \"#d8576b\"], [0.6666666666666666, \"#ed7953\"], [0.7777777777777778, \"#fb9f3a\"], [0.8888888888888888, \"#fdca26\"], [1.0, \"#f0f921\"]], \"sequentialminus\": [[0.0, \"#0d0887\"], [0.1111111111111111, \"#46039f\"], [0.2222222222222222, \"#7201a8\"], [0.3333333333333333, \"#9c179e\"], [0.4444444444444444, \"#bd3786\"], [0.5555555555555556, \"#d8576b\"], [0.6666666666666666, \"#ed7953\"], [0.7777777777777778, \"#fb9f3a\"], [0.8888888888888888, \"#fdca26\"], [1.0, \"#f0f921\"]]}, \"colorway\": [\"#636efa\", \"#EF553B\", \"#00cc96\", \"#ab63fa\", \"#FFA15A\", \"#19d3f3\", \"#FF6692\", \"#B6E880\", \"#FF97FF\", \"#FECB52\"], \"font\": {\"color\": \"#2a3f5f\"}, \"geo\": {\"bgcolor\": \"white\", \"lakecolor\": \"white\", \"landcolor\": \"#E5ECF6\", \"showlakes\": true, \"showland\": true, \"subunitcolor\": \"white\"}, \"hoverlabel\": {\"align\": \"left\"}, \"hovermode\": \"closest\", \"mapbox\": {\"style\": \"light\"}, \"paper_bgcolor\": \"white\", \"plot_bgcolor\": \"#E5ECF6\", \"polar\": {\"angularaxis\": {\"gridcolor\": \"white\", \"linecolor\": \"white\", \"ticks\": \"\"}, \"bgcolor\": \"#E5ECF6\", \"radialaxis\": {\"gridcolor\": \"white\", \"linecolor\": \"white\", \"ticks\": \"\"}}, \"scene\": {\"xaxis\": {\"backgroundcolor\": \"#E5ECF6\", \"gridcolor\": \"white\", \"gridwidth\": 2, \"linecolor\": \"white\", \"showbackground\": true, \"ticks\": \"\", \"zerolinecolor\": \"white\"}, \"yaxis\": {\"backgroundcolor\": \"#E5ECF6\", \"gridcolor\": \"white\", \"gridwidth\": 2, \"linecolor\": \"white\", \"showbackground\": true, \"ticks\": \"\", \"zerolinecolor\": \"white\"}, \"zaxis\": {\"backgroundcolor\": \"#E5ECF6\", \"gridcolor\": \"white\", \"gridwidth\": 2, \"linecolor\": \"white\", \"showbackground\": true, \"ticks\": \"\", \"zerolinecolor\": \"white\"}}, \"shapedefaults\": {\"line\": {\"color\": \"#2a3f5f\"}}, \"ternary\": {\"aaxis\": {\"gridcolor\": \"white\", \"linecolor\": \"white\", \"ticks\": \"\"}, \"baxis\": {\"gridcolor\": \"white\", \"linecolor\": \"white\", \"ticks\": \"\"}, \"bgcolor\": \"#E5ECF6\", \"caxis\": {\"gridcolor\": \"white\", \"linecolor\": \"white\", \"ticks\": \"\"}}, \"title\": {\"x\": 0.05}, \"xaxis\": {\"automargin\": true, \"gridcolor\": \"white\", \"linecolor\": \"white\", \"ticks\": \"\", \"title\": {\"standoff\": 15}, \"zerolinecolor\": \"white\", \"zerolinewidth\": 2}, \"yaxis\": {\"automargin\": true, \"gridcolor\": \"white\", \"linecolor\": \"white\", \"ticks\": \"\", \"title\": {\"standoff\": 15}, \"zerolinecolor\": \"white\", \"zerolinewidth\": 2}}}, \"width\": 600, \"xaxis\": {\"anchor\": \"y\", \"domain\": [0.0, 1.0], \"title\": {\"text\": \"price\"}}, \"yaxis\": {\"anchor\": \"x\", \"domain\": [0.0, 1.0], \"title\": {\"text\": \"user_rating\"}}},\n",
       "                        {\"responsive\": true}\n",
       "                    ).then(function(){\n",
       "                            \n",
       "var gd = document.getElementById('1ebdd413-e4fc-4dec-976b-989b00363722');\n",
       "var x = new MutationObserver(function (mutations, observer) {{\n",
       "        var display = window.getComputedStyle(gd).display;\n",
       "        if (!display || display === 'none') {{\n",
       "            console.log([gd, 'removed!']);\n",
       "            Plotly.purge(gd);\n",
       "            observer.disconnect();\n",
       "        }}\n",
       "}});\n",
       "\n",
       "// Listen for the removal of the full notebook cells\n",
       "var notebookContainer = gd.closest('#notebook-container');\n",
       "if (notebookContainer) {{\n",
       "    x.observe(notebookContainer, {childList: true});\n",
       "}}\n",
       "\n",
       "// Listen for the clearing of the current output cell\n",
       "var outputEl = gd.closest('.output');\n",
       "if (outputEl) {{\n",
       "    x.observe(outputEl, {childList: true});\n",
       "}}\n",
       "\n",
       "                        })\n",
       "                };\n",
       "                });\n",
       "            </script>\n",
       "        </div>"
      ]
     },
     "metadata": {},
     "output_type": "display_data"
    }
   ],
   "source": [
    "# visualization of average user_rating vs average price per category\n",
    "# The sice of category circle is according to rating_count_tot\n",
    "\n",
    "fig = px.scatter(average_rating_category.loc[['Medical','Weather','Navigation','Book', 'Social Networking',  'Games', 'Education', 'Shopping','News', 'Music']], x=\"price\", y=\"user_rating\", size=\"rating_count_tot\", color=\"Category\",\n",
    "           hover_name=\"Category\", log_x=False, trendline='ols', width=600, height=400)\n",
    "\n",
    "print('Size=rating_count_tot ')\n",
    "fig.show()"
   ]
  },
  {
   "cell_type": "code",
   "execution_count": 27,
   "metadata": {},
   "outputs": [],
   "source": [
    "# fig.write_html(\"images/IMG.html\")"
   ]
  },
  {
   "cell_type": "code",
   "execution_count": 29,
   "metadata": {},
   "outputs": [],
   "source": [
    "# fig.write_image(\"images/IMG.png\")"
   ]
  },
  {
   "cell_type": "code",
   "execution_count": null,
   "metadata": {},
   "outputs": [],
   "source": []
  }
 ],
 "metadata": {
  "kernelspec": {
   "display_name": "Python 3",
   "language": "python",
   "name": "python3"
  },
  "language_info": {
   "codemirror_mode": {
    "name": "ipython",
    "version": 3
   },
   "file_extension": ".py",
   "mimetype": "text/x-python",
   "name": "python",
   "nbconvert_exporter": "python",
   "pygments_lexer": "ipython3",
   "version": "3.8.2"
  }
 },
 "nbformat": 4,
 "nbformat_minor": 4
}
